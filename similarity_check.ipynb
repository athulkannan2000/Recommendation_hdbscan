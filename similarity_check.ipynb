{
 "cells": [
  {
   "cell_type": "code",
   "execution_count": 9,
   "metadata": {},
   "outputs": [],
   "source": [
    "import pandas as pd\n",
    "from sentence_transformers import SentenceTransformer, util"
   ]
  },
  {
   "cell_type": "code",
   "execution_count": 8,
   "metadata": {},
   "outputs": [],
   "source": [
    "news = pd.read_csv(\"arabic_data.csv\",on_bad_lines='skip')\n",
    "news.columns=[\"title\",\"contents\",\"category\",\"author_name\"]\n",
    "cont = []\n",
    "cont.append(news.contents[10])\n",
    "cont.append(news.contents[11])\n",
    "cont.append(news.contents[12])\n",
    "title = news.title[13]"
   ]
  },
  {
   "cell_type": "code",
   "execution_count": 25,
   "metadata": {},
   "outputs": [
    {
     "name": "stdout",
     "output_type": "stream",
     "text": [
      "«الأرصاد»: طقس اليوم.. حار\n"
     ]
    }
   ],
   "source": [
    "# print(news.contents[10])\n",
    "# print(news.contents[11])\n",
    "# print(news.contents[12])\n",
    "print(news.title[13])"
   ]
  },
  {
   "cell_type": "markdown",
   "metadata": {},
   "source": [
    "from the translation we can understand that cont sentences are related to politics and government <br>\n",
    "but title varible has news related to weather"
   ]
  },
  {
   "cell_type": "code",
   "execution_count": 10,
   "metadata": {},
   "outputs": [
    {
     "data": {
      "application/vnd.jupyter.widget-view+json": {
       "model_id": "31a1e2bdca3f4e6886d17814ddd39645",
       "version_major": 2,
       "version_minor": 0
      },
      "text/plain": [
       "Downloading:   0%|          | 0.00/690 [00:00<?, ?B/s]"
      ]
     },
     "metadata": {},
     "output_type": "display_data"
    },
    {
     "data": {
      "application/vnd.jupyter.widget-view+json": {
       "model_id": "934f33c91c244f97bb2d7d9cafc31c3f",
       "version_major": 2,
       "version_minor": 0
      },
      "text/plain": [
       "Downloading:   0%|          | 0.00/190 [00:00<?, ?B/s]"
      ]
     },
     "metadata": {},
     "output_type": "display_data"
    },
    {
     "data": {
      "application/vnd.jupyter.widget-view+json": {
       "model_id": "f6b053e7c8ac4c3289c11f31e87b89ac",
       "version_major": 2,
       "version_minor": 0
      },
      "text/plain": [
       "Downloading:   0%|          | 0.00/114 [00:00<?, ?B/s]"
      ]
     },
     "metadata": {},
     "output_type": "display_data"
    },
    {
     "data": {
      "application/vnd.jupyter.widget-view+json": {
       "model_id": "99e749db7efb4a4da24edea0d1b073f0",
       "version_major": 2,
       "version_minor": 0
      },
      "text/plain": [
       "Downloading:   0%|          | 0.00/1.58M [00:00<?, ?B/s]"
      ]
     },
     "metadata": {},
     "output_type": "display_data"
    },
    {
     "data": {
      "application/vnd.jupyter.widget-view+json": {
       "model_id": "dd857d545dd64a5c9fa67e4ecb21e1d6",
       "version_major": 2,
       "version_minor": 0
      },
      "text/plain": [
       "Downloading:   0%|          | 0.00/2.38k [00:00<?, ?B/s]"
      ]
     },
     "metadata": {},
     "output_type": "display_data"
    },
    {
     "data": {
      "application/vnd.jupyter.widget-view+json": {
       "model_id": "31092c501abd42ba86e4a2756149e0ee",
       "version_major": 2,
       "version_minor": 0
      },
      "text/plain": [
       "Downloading:   0%|          | 0.00/556 [00:00<?, ?B/s]"
      ]
     },
     "metadata": {},
     "output_type": "display_data"
    },
    {
     "data": {
      "application/vnd.jupyter.widget-view+json": {
       "model_id": "a21db9265b6d463fbb6de060b0e68e62",
       "version_major": 2,
       "version_minor": 0
      },
      "text/plain": [
       "Downloading:   0%|          | 0.00/122 [00:00<?, ?B/s]"
      ]
     },
     "metadata": {},
     "output_type": "display_data"
    },
    {
     "data": {
      "application/vnd.jupyter.widget-view+json": {
       "model_id": "08fadd6bcf594a76811203061249fa6e",
       "version_major": 2,
       "version_minor": 0
      },
      "text/plain": [
       "Downloading:   0%|          | 0.00/539M [00:00<?, ?B/s]"
      ]
     },
     "metadata": {},
     "output_type": "display_data"
    },
    {
     "data": {
      "application/vnd.jupyter.widget-view+json": {
       "model_id": "bbe2429ce5d74cc08242aa2d1e710e02",
       "version_major": 2,
       "version_minor": 0
      },
      "text/plain": [
       "Downloading:   0%|          | 0.00/53.0 [00:00<?, ?B/s]"
      ]
     },
     "metadata": {},
     "output_type": "display_data"
    },
    {
     "data": {
      "application/vnd.jupyter.widget-view+json": {
       "model_id": "19d654b8545d4fe6b2400074222b354a",
       "version_major": 2,
       "version_minor": 0
      },
      "text/plain": [
       "Downloading:   0%|          | 0.00/112 [00:00<?, ?B/s]"
      ]
     },
     "metadata": {},
     "output_type": "display_data"
    },
    {
     "data": {
      "application/vnd.jupyter.widget-view+json": {
       "model_id": "6dbe1f88d1ab42de82086b6c18381b6d",
       "version_major": 2,
       "version_minor": 0
      },
      "text/plain": [
       "Downloading:   0%|          | 0.00/1.96M [00:00<?, ?B/s]"
      ]
     },
     "metadata": {},
     "output_type": "display_data"
    },
    {
     "data": {
      "application/vnd.jupyter.widget-view+json": {
       "model_id": "ea76966b0f1740339f8a6f3d41f02bf4",
       "version_major": 2,
       "version_minor": 0
      },
      "text/plain": [
       "Downloading:   0%|          | 0.00/452 [00:00<?, ?B/s]"
      ]
     },
     "metadata": {},
     "output_type": "display_data"
    },
    {
     "data": {
      "application/vnd.jupyter.widget-view+json": {
       "model_id": "5b128279b45a4e849ff8d1aa6a61e06a",
       "version_major": 2,
       "version_minor": 0
      },
      "text/plain": [
       "Downloading:   0%|          | 0.00/996k [00:00<?, ?B/s]"
      ]
     },
     "metadata": {},
     "output_type": "display_data"
    },
    {
     "data": {
      "application/vnd.jupyter.widget-view+json": {
       "model_id": "f32df6abeacb43c4a46c8c6c39709458",
       "version_major": 2,
       "version_minor": 0
      },
      "text/plain": [
       "Downloading:   0%|          | 0.00/341 [00:00<?, ?B/s]"
      ]
     },
     "metadata": {},
     "output_type": "display_data"
    }
   ],
   "source": [
    "model = SentenceTransformer('distiluse-base-multilingual-cased-v1')"
   ]
  },
  {
   "cell_type": "code",
   "execution_count": 15,
   "metadata": {},
   "outputs": [
    {
     "name": "stdout",
     "output_type": "stream",
     "text": [
      "512 3 <class 'numpy.ndarray'>\n"
     ]
    }
   ],
   "source": [
    "query_embedding = model.encode(title) #query for which the vector has to be calculated\n",
    "passage_embedding = model.encode(cont) #we have 3 entries\n",
    "\n",
    "\n",
    "# print(\"Similarity:\", util.dot_score(query_embedding, passage_embedding))\n"
   ]
  },
  {
   "cell_type": "code",
   "execution_count": 18,
   "metadata": {},
   "outputs": [
    {
     "name": "stdout",
     "output_type": "stream",
     "text": [
      "<class 'numpy.ndarray'> (512,) (3, 512)\n"
     ]
    }
   ],
   "source": [
    "print(type(query_embedding),query_embedding.shape,passage_embedding.shape) #"
   ]
  },
  {
   "cell_type": "markdown",
   "metadata": {},
   "source": [
    "# Tensorflow method"
   ]
  },
  {
   "cell_type": "code",
   "execution_count": 32,
   "metadata": {},
   "outputs": [],
   "source": [
    "### Universal Sentence Encoder\n",
    "import tensorflow as tf\n",
    "import tensorflow_hub as hub\n",
    "from sklearn.metrics.pairwise import cosine_similarity"
   ]
  },
  {
   "cell_type": "code",
   "execution_count": 33,
   "metadata": {},
   "outputs": [
    {
     "name": "stdout",
     "output_type": "stream",
     "text": [
      "[[1.0000002  0.7312218  0.6654273 ]\n",
      " [0.7312218  0.9999999  0.86209613]\n",
      " [0.6654273  0.86209613 0.99999994]]\n"
     ]
    }
   ],
   "source": [
    "\n",
    "\n",
    "module_url = \"https://tfhub.dev/google/universal-sentence-encoder/4\" \n",
    "model = hub.load(module_url)\n",
    "\n",
    "content = ['قال وزير ال وقاف والش ون ال سلامية الكويتي عيسى الكندري اليوم ال ربعا ن الكويت قيادة وحكومة وشعبا اهتمت بحفظ القر ن الكريم ودعم ومساندة حفظته وتشجيعهم وتكريمهم جا ذلك في كلمة الوزير الكندري لقاها نيابة عنه ال مين العام لل مانةالعامة لل وقاف بال نابة منصور الصقعبي خلال علان سما الفا زين والفا زات ال وا ل والجهات الفا زة بدروع مسابقة الكويت الكبرى لحفظ القر ن الكريم وتجويده ال التي قيمت برعاية سامية من لدن سمو مير البلاد الشيخ نواف ال حمد الجابر الصباح تحت شعار اطم ن و وضح ن مانة ال وقاف باعتبارها الجهة الرسمية التي سندت اليها اختصاصات الدعوة لى الوقف والقيام بكل ما يتعلق بش ونه بما في ذلك دارة مواله واستثمارها وصرف ريعها في حدود شروط الواقف وبما يحقق المقاصد الشرعية للوقف وتنمية المجتمع حضاريا وثقافيا واجتماعيا لتخفيف العب عن المحتاجين في المجتمع تقوم بجهد را د ومتميز في خدمة كتاب الله تعالى ولفت لى ن ال مانة تبذل كل الطاقات لخدمة القر ن الكريم ووضعه في المنزلة ال سمى لكل عمالها بهدف زيادة عدد حفاظه والمشاركين كما ونوعا لنيل شرف المنافسة في هذه المسابقة على مدار سنواتها المتعاقبة وذكر ن جمالي عدد المشاركين هذا العام بلغ متسابقا ومتسابقة ومن تم اختبارهم بلغ متسابقا ومتسابقة منهم من الذكور و من ال ناث وبلغ عمر كبر متسابقة عاما من شريحة الصم الشريحة الثانية وبين الكندري ن عدد الجهات المشاركة بلغ جهة خيرية ورسمية و جمالي عدد الفا زين في مختلف شرا ح وف ات المسابقة ذكورا و ناثا وعدد الفا زين من ف ات ذوي الاحتياجات الخاصة بلغ فا زا وفا زة وعدد الفا زين من الم سسات ال صلاحية وال حداث بلغ فا زا وفا زة وقال ن درع التفوق العام حصلت عليها جمعية بيادر السلام الخيرية والدرع الذهبية حصلت عليها وزارة ال وقاف والش ون ال سلامية والدرع الفضية حصلت عليها مبرة المتميزين لخدمة علوم القر ن والعلوم الشرعية والدرع البرونزية حصلت عليها كل من جمعية ال صلاح الاجتماعي ومبرة دشتي الخيرية وجمعية الماهر بالقر ن الكريم وعلومه',\n",
    " 'صدر وزير التجارة والصناعة د عبدالله السلمان قرارا وزاريا بش ن عادة تشكيل المجلس الت ديبي بجهاز حماية المنافسة وبموجب القرار تمت عادة تشكيل المجلس بر اسة وكيل محكمة التمييز المستشار د عبيد العجمي والمستشار حمود محمد المطوع نا با للر يس وعضوية كل من المستشار محمد جاسم بهمن المستشار بمحكمة الاست ناف وحيدر طاهر الحرز ويوسف حسن قراشي ويتولى المجلس الفصل في المسا لة الت ديبية المحالة ليه من مجلس دارة الجهاز والمتعلقة بالمخالفات الواردة في المادة من حكام القانون في ش ن حماية المنافسة وينص قرار وزير التجارة والصناعة على ان تكون مدة عمل المجلس سنوات من تاريخ صدور القرار وتصرف للمجلس المكاف ة المالية الشهرية المقررة بالقرار الوزاري على ن يلغى كل حكم يتعارض مع حكام هذا القرار كما يلغى القرار الوزاري والقرار الوزاري وكل ما يعمل به من حكام',\n",
    " 'تقدم وزير الداخلية وزير الدفاع بال نابة الشيخ ثامر العلي مشيعي جثامين شهيدا من شهدا الكويت الابرار في مقبرة الصليبيخات وسط حضور عدد غفير من المواطنين وقال العلي نقلت قبل قليل تحيات واعتزاز ومواساة صاحب السمو امير البلاد وسمو ولي عهده الامين الى ذوي الشهدا و ضاف الكويت اليوم احتضنت شهيدا وهذه كوكبة جديدة من الشهدا نس ل الله تعالى ان نصل الى ما وصلوا ليه شهدا حيا عند ربهم يرزقون ونبارك لذويهم وشارك في التشييع وزير التربية الدكتور علي المضف ووزير النفط وزير التعليم العالي الدكتور محمد الفارس والنا ب مساعد العارضي الذي قال يجب نقل قصص تضحيات الشهدا لل جيال القادمة كما شارك عدد من القيادات ال منية في وزارتي الداخلية والدفاع والحرس الوطني وقوة ال طفا']\n",
    "\n",
    "embeddings = model(content)\n",
    "similarity = cosine_similarity(embeddings)\n",
    "print(similarity)"
   ]
  },
  {
   "cell_type": "code",
   "execution_count": 35,
   "metadata": {},
   "outputs": [
    {
     "data": {
      "text/plain": [
       "<tf.Tensor: shape=(3, 512), dtype=float32, numpy=\n",
       "array([[-0.0566675 , -0.01732942, -0.04934503, ...,  0.04665867,\n",
       "        -0.0491011 , -0.05969096],\n",
       "       [-0.04933674,  0.00606731, -0.05401601, ...,  0.01358067,\n",
       "        -0.06695798, -0.07236457],\n",
       "       [-0.05852233,  0.01354187, -0.05166337, ...,  0.04519889,\n",
       "        -0.07243302, -0.07429723]], dtype=float32)>"
      ]
     },
     "execution_count": 35,
     "metadata": {},
     "output_type": "execute_result"
    }
   ],
   "source": [
    "embeddings"
   ]
  },
  {
   "cell_type": "code",
   "execution_count": null,
   "metadata": {},
   "outputs": [],
   "source": []
  },
  {
   "cell_type": "code",
   "execution_count": null,
   "metadata": {},
   "outputs": [],
   "source": []
  },
  {
   "cell_type": "code",
   "execution_count": null,
   "metadata": {},
   "outputs": [],
   "source": []
  }
 ],
 "metadata": {
  "kernelspec": {
   "display_name": "Python 3.8.11 ('machine_learning')",
   "language": "python",
   "name": "python3"
  },
  "language_info": {
   "codemirror_mode": {
    "name": "ipython",
    "version": 3
   },
   "file_extension": ".py",
   "mimetype": "text/x-python",
   "name": "python",
   "nbconvert_exporter": "python",
   "pygments_lexer": "ipython3",
   "version": "3.8.11"
  },
  "orig_nbformat": 4,
  "vscode": {
   "interpreter": {
    "hash": "a9c62d8cf6e30c1639f8e9a0a261a530483935ac00f94e2882c1ade2d532fd4c"
   }
  }
 },
 "nbformat": 4,
 "nbformat_minor": 2
}
