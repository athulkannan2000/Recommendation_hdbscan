{
 "cells": [
  {
   "cell_type": "code",
   "execution_count": 111,
   "metadata": {},
   "outputs": [
    {
     "name": "stdout",
     "output_type": "stream",
     "text": [
      "WARNING:tensorflow:7 out of the last 7 calls to <function recreate_function.<locals>.restored_function_body at 0x000001F7EA7B0DC0> triggered tf.function retracing. Tracing is expensive and the excessive number of tracings could be due to (1) creating @tf.function repeatedly in a loop, (2) passing tensors with different shapes, (3) passing Python objects instead of tensors. For (1), please define your @tf.function outside of the loop. For (2), @tf.function has experimental_relax_shapes=True option that relaxes argument shapes that can avoid unnecessary retracing. For (3), please refer to https://www.tensorflow.org/tutorials/customization/performance#python_or_tensor_args and https://www.tensorflow.org/api_docs/python/tf/function for  more details.\n"
     ]
    },
    {
     "name": "stderr",
     "output_type": "stream",
     "text": [
      "WARNING:tensorflow:7 out of the last 7 calls to <function recreate_function.<locals>.restored_function_body at 0x000001F7EA7B0DC0> triggered tf.function retracing. Tracing is expensive and the excessive number of tracings could be due to (1) creating @tf.function repeatedly in a loop, (2) passing tensors with different shapes, (3) passing Python objects instead of tensors. For (1), please define your @tf.function outside of the loop. For (2), @tf.function has experimental_relax_shapes=True option that relaxes argument shapes that can avoid unnecessary retracing. For (3), please refer to https://www.tensorflow.org/tutorials/customization/performance#python_or_tensor_args and https://www.tensorflow.org/api_docs/python/tf/function for  more details.\n"
     ]
    }
   ],
   "source": [
    "%reset"
   ]
  },
  {
   "cell_type": "markdown",
   "metadata": {},
   "source": [
    "# Importing"
   ]
  },
  {
   "cell_type": "code",
   "execution_count": 1,
   "metadata": {},
   "outputs": [
    {
     "name": "stderr",
     "output_type": "stream",
     "text": [
      "c:\\anaconda\\envs\\machine_learning\\lib\\site-packages\\numpy\\_distributor_init.py:30: UserWarning: loaded more than 1 DLL from .libs:\n",
      "c:\\anaconda\\envs\\machine_learning\\lib\\site-packages\\numpy\\.libs\\libopenblas.GK7GX5KEQ4F6UYO3P26ULGBQYHGQO7J4.gfortran-win_amd64.dll\n",
      "c:\\anaconda\\envs\\machine_learning\\lib\\site-packages\\numpy\\.libs\\libopenblas.PYQHXLVVQ7VESDPUVUADXEVJOBGHJPAY.gfortran-win_amd64.dll\n",
      "  warnings.warn(\"loaded more than 1 DLL from .libs:\"\n"
     ]
    }
   ],
   "source": [
    "import tensorflow as tf\n",
    "import tensorflow_hub as hub"
   ]
  },
  {
   "cell_type": "code",
   "execution_count": 2,
   "metadata": {},
   "outputs": [],
   "source": [
    "import pandas as pd\n",
    "import numpy as np\n",
    "from bs4 import BeautifulSoup\n",
    "import re\n",
    "import umap # dimensionality reduction\n",
    "from sklearn.cluster import DBSCAN\n",
    "from sklearn.cluster import KMeans\n",
    "import matplotlib.pyplot as plt\n",
    "import hdbscan\n",
    "from deep_translator import GoogleTranslator\n",
    "import mysql.connector as mysql"
   ]
  },
  {
   "cell_type": "code",
   "execution_count": 21,
   "metadata": {},
   "outputs": [],
   "source": [
    "def data_extractor():\n",
    "    try:\n",
    "        conn = mysql.connect(host='localhost', database='laravel_test', user='root', password='root')\n",
    "    except:\n",
    "        print(\"error connecting to local db server\")\n",
    "    cursor = conn.cursor()\n",
    "    #obtaining records\n",
    "    q1=\"SELECT * FROM posts where source_id=1\"\n",
    "    cursor.execute(q1)\n",
    "    result = cursor.fetchall()\n",
    "    #obtaining column names\n",
    "    q2=\"SELECT COLUMN_NAME FROM INFORMATION_SCHEMA.COLUMNS WHERE TABLE_NAME = 'posts' ORDER BY ORDINAL_POSITION;\"\n",
    "    cursor.execute(q2)\n",
    "    col_names = cursor.fetchall()\n",
    "    fin_col_names=[]\n",
    "    for tup in col_names:\n",
    "        fin_col_names.append(tup[0])\n",
    "\n",
    "    return pd.DataFrame(result,columns=fin_col_names)"
   ]
  },
  {
   "cell_type": "markdown",
   "metadata": {},
   "source": [
    "# Preparing Dataset"
   ]
  },
  {
   "cell_type": "code",
   "execution_count": 3,
   "metadata": {},
   "outputs": [],
   "source": [
    "# from df_cons import extractor\n",
    "from df_cons_v1 import extractor"
   ]
  },
  {
   "cell_type": "code",
   "execution_count": 4,
   "metadata": {},
   "outputs": [
    {
     "data": {
      "text/plain": [
       "(tuple,\n",
       " (Empty DataFrame\n",
       "  Columns: [post_id, title, agency_id, post_url, category_id, image_url, contents, published_date_and_time, author_name, main_category_id, sub_category_id, media_type, slug, urgency, source_id, status, created_at, updated_at, deleted_at, tweet_created_at, tweet_text, tweet_id, vdo_title, vdo_description, vdo_published_at, vdo_thumbnail, vdo_url, active_id, trending_count]\n",
       "  Index: []\n",
       "  \n",
       "  [0 rows x 29 columns],\n",
       "  '################hello##########'))"
      ]
     },
     "execution_count": 4,
     "metadata": {},
     "output_type": "execute_result"
    }
   ],
   "source": [
    "de=extractor()\n",
    "type(de),de"
   ]
  },
  {
   "cell_type": "code",
   "execution_count": 38,
   "metadata": {},
   "outputs": [
    {
     "ename": "AttributeError",
     "evalue": "'DataFrame' object has no attribute 'main'",
     "output_type": "error",
     "traceback": [
      "\u001b[1;31m---------------------------------------------------------------------------\u001b[0m",
      "\u001b[1;31mAttributeError\u001b[0m                            Traceback (most recent call last)",
      "\u001b[1;32mc:\\Users\\rbw19\\OneDrive\\Desktop\\recommendation_engine\\universal_sentence_encoder change 1.ipynb Cell 9\u001b[0m in \u001b[0;36m<cell line: 1>\u001b[1;34m()\u001b[0m\n\u001b[1;32m----> <a href='vscode-notebook-cell:/c%3A/Users/rbw19/OneDrive/Desktop/recommendation_engine/universal_sentence_encoder%20change%201.ipynb#Y134sZmlsZQ%3D%3D?line=0'>1</a>\u001b[0m dataset\u001b[39m=\u001b[39mde\u001b[39m.\u001b[39;49mmain()\n",
      "File \u001b[1;32mc:\\anaconda\\envs\\machine_learning\\lib\\site-packages\\pandas\\core\\generic.py:5907\u001b[0m, in \u001b[0;36mNDFrame.__getattr__\u001b[1;34m(self, name)\u001b[0m\n\u001b[0;32m   5900\u001b[0m \u001b[39mif\u001b[39;00m (\n\u001b[0;32m   5901\u001b[0m     name \u001b[39mnot\u001b[39;00m \u001b[39min\u001b[39;00m \u001b[39mself\u001b[39m\u001b[39m.\u001b[39m_internal_names_set\n\u001b[0;32m   5902\u001b[0m     \u001b[39mand\u001b[39;00m name \u001b[39mnot\u001b[39;00m \u001b[39min\u001b[39;00m \u001b[39mself\u001b[39m\u001b[39m.\u001b[39m_metadata\n\u001b[0;32m   5903\u001b[0m     \u001b[39mand\u001b[39;00m name \u001b[39mnot\u001b[39;00m \u001b[39min\u001b[39;00m \u001b[39mself\u001b[39m\u001b[39m.\u001b[39m_accessors\n\u001b[0;32m   5904\u001b[0m     \u001b[39mand\u001b[39;00m \u001b[39mself\u001b[39m\u001b[39m.\u001b[39m_info_axis\u001b[39m.\u001b[39m_can_hold_identifiers_and_holds_name(name)\n\u001b[0;32m   5905\u001b[0m ):\n\u001b[0;32m   5906\u001b[0m     \u001b[39mreturn\u001b[39;00m \u001b[39mself\u001b[39m[name]\n\u001b[1;32m-> 5907\u001b[0m \u001b[39mreturn\u001b[39;00m \u001b[39mobject\u001b[39;49m\u001b[39m.\u001b[39;49m\u001b[39m__getattribute__\u001b[39;49m(\u001b[39mself\u001b[39;49m, name)\n",
      "\u001b[1;31mAttributeError\u001b[0m: 'DataFrame' object has no attribute 'main'"
     ]
    }
   ],
   "source": [
    "dataset=de.main()"
   ]
  },
  {
   "cell_type": "code",
   "execution_count": 24,
   "metadata": {},
   "outputs": [
    {
     "data": {
      "text/html": [
       "<div>\n",
       "<style scoped>\n",
       "    .dataframe tbody tr th:only-of-type {\n",
       "        vertical-align: middle;\n",
       "    }\n",
       "\n",
       "    .dataframe tbody tr th {\n",
       "        vertical-align: top;\n",
       "    }\n",
       "\n",
       "    .dataframe thead th {\n",
       "        text-align: right;\n",
       "    }\n",
       "</style>\n",
       "<table border=\"1\" class=\"dataframe\">\n",
       "  <thead>\n",
       "    <tr style=\"text-align: right;\">\n",
       "      <th></th>\n",
       "      <th>post_id</th>\n",
       "      <th>title</th>\n",
       "      <th>agency_id</th>\n",
       "      <th>post_url</th>\n",
       "      <th>category_id</th>\n",
       "      <th>image_url</th>\n",
       "      <th>contents</th>\n",
       "      <th>published_date_and_time</th>\n",
       "      <th>author_name</th>\n",
       "      <th>main_category_id</th>\n",
       "      <th>...</th>\n",
       "      <th>tweet_created_at</th>\n",
       "      <th>tweet_text</th>\n",
       "      <th>tweet_id</th>\n",
       "      <th>vdo_title</th>\n",
       "      <th>vdo_description</th>\n",
       "      <th>vdo_published_at</th>\n",
       "      <th>vdo_thumbnail</th>\n",
       "      <th>vdo_url</th>\n",
       "      <th>active_id</th>\n",
       "      <th>trending_count</th>\n",
       "    </tr>\n",
       "  </thead>\n",
       "  <tbody>\n",
       "    <tr>\n",
       "      <th>0</th>\n",
       "      <td>21</td>\n",
       "      <td>الصحة تطلب من قيادييها تخصيص يوم في الأسبوع لت...</td>\n",
       "      <td>12</td>\n",
       "      <td>http://alwatan.kuwait.tt/articledetails.aspx?i...</td>\n",
       "      <td>1</td>\n",
       "      <td>http://watanmedia.seyasi.com/resources/media/i...</td>\n",
       "      <td>\\n                                    أصدر وكي...</td>\n",
       "      <td>2022-11-01T00:00:00</td>\n",
       "      <td>alwatan</td>\n",
       "      <td>1</td>\n",
       "      <td>...</td>\n",
       "      <td>None</td>\n",
       "      <td>None</td>\n",
       "      <td>None</td>\n",
       "      <td>None</td>\n",
       "      <td>None</td>\n",
       "      <td>None</td>\n",
       "      <td>None</td>\n",
       "      <td>None</td>\n",
       "      <td>None</td>\n",
       "      <td>None</td>\n",
       "    </tr>\n",
       "    <tr>\n",
       "      <th>1</th>\n",
       "      <td>24</td>\n",
       "      <td>السفير الكوري: رؤية 2035 ستقودنا إلى «كويت ذكية»</td>\n",
       "      <td>1</td>\n",
       "      <td>https://www.alqabas.com/article/5897771</td>\n",
       "      <td>1</td>\n",
       "      <td>https://dqnxlhsgmg1ih.cloudfront.net/storage/a...</td>\n",
       "      <td>مي السكري -أكد سفير جمهورية كوريا لدى الكويت ت...</td>\n",
       "      <td>2022-10-31T18:29:02.465000+00:00</td>\n",
       "      <td>alqabas</td>\n",
       "      <td>1</td>\n",
       "      <td>...</td>\n",
       "      <td>None</td>\n",
       "      <td>None</td>\n",
       "      <td>None</td>\n",
       "      <td>None</td>\n",
       "      <td>None</td>\n",
       "      <td>None</td>\n",
       "      <td>None</td>\n",
       "      <td>None</td>\n",
       "      <td>None</td>\n",
       "      <td>None</td>\n",
       "    </tr>\n",
       "    <tr>\n",
       "      <th>2</th>\n",
       "      <td>25</td>\n",
       "      <td>السفير القبرصي: اهتمام كويتي بتملّك العقارات ل...</td>\n",
       "      <td>1</td>\n",
       "      <td>https://www.alqabas.com/article/5897770</td>\n",
       "      <td>1</td>\n",
       "      <td>https://dqnxlhsgmg1ih.cloudfront.net/storage/a...</td>\n",
       "      <td>مي السكري -دعا السفير القبرص لدى البلاد، مايكل...</td>\n",
       "      <td>2022-10-31T18:26:42.598000+00:00</td>\n",
       "      <td>alqabas</td>\n",
       "      <td>1</td>\n",
       "      <td>...</td>\n",
       "      <td>None</td>\n",
       "      <td>None</td>\n",
       "      <td>None</td>\n",
       "      <td>None</td>\n",
       "      <td>None</td>\n",
       "      <td>None</td>\n",
       "      <td>None</td>\n",
       "      <td>None</td>\n",
       "      <td>None</td>\n",
       "      <td>None</td>\n",
       "    </tr>\n",
       "    <tr>\n",
       "      <th>3</th>\n",
       "      <td>26</td>\n",
       "      <td>شاركت الامانة العامة للمجلس الاعلى للتخطيط وال...</td>\n",
       "      <td>205</td>\n",
       "      <td>https://www.scpd.gov.kw/Default5_news.aspx</td>\n",
       "      <td>4</td>\n",
       "      <td>https://www.scpd.gov.kw/NewsOthers/original_so...</td>\n",
       "      <td>\\r\\n                                          ...</td>\n",
       "      <td>2022-10-26T00:00:00</td>\n",
       "      <td>General Secretariat of Supreme Council for Pla...</td>\n",
       "      <td>2</td>\n",
       "      <td>...</td>\n",
       "      <td>None</td>\n",
       "      <td>None</td>\n",
       "      <td>None</td>\n",
       "      <td>None</td>\n",
       "      <td>None</td>\n",
       "      <td>None</td>\n",
       "      <td>None</td>\n",
       "      <td>None</td>\n",
       "      <td>None</td>\n",
       "      <td>None</td>\n",
       "    </tr>\n",
       "    <tr>\n",
       "      <th>4</th>\n",
       "      <td>27</td>\n",
       "      <td>\\r\\n                                    توضيح ...</td>\n",
       "      <td>260</td>\n",
       "      <td>http://www.pifss.gov.kw/sites/Ar/Pages/NewsDet...</td>\n",
       "      <td>22</td>\n",
       "      <td>None</td>\n",
       "      <td>\\n\\n\\n\\n\\n\\nالكويت 25 أكتوبر 2022 – توضيحًا لل...</td>\n",
       "      <td>2022-10-25T00:00:00</td>\n",
       "      <td>Public Institution for Social Security in Kuwait</td>\n",
       "      <td>2</td>\n",
       "      <td>...</td>\n",
       "      <td>None</td>\n",
       "      <td>None</td>\n",
       "      <td>None</td>\n",
       "      <td>None</td>\n",
       "      <td>None</td>\n",
       "      <td>None</td>\n",
       "      <td>None</td>\n",
       "      <td>None</td>\n",
       "      <td>None</td>\n",
       "      <td>None</td>\n",
       "    </tr>\n",
       "  </tbody>\n",
       "</table>\n",
       "<p>5 rows × 29 columns</p>\n",
       "</div>"
      ],
      "text/plain": [
       "   post_id                                              title  agency_id  \\\n",
       "0       21  الصحة تطلب من قيادييها تخصيص يوم في الأسبوع لت...         12   \n",
       "1       24   السفير الكوري: رؤية 2035 ستقودنا إلى «كويت ذكية»          1   \n",
       "2       25  السفير القبرصي: اهتمام كويتي بتملّك العقارات ل...          1   \n",
       "3       26  شاركت الامانة العامة للمجلس الاعلى للتخطيط وال...        205   \n",
       "4       27  \\r\\n                                    توضيح ...        260   \n",
       "\n",
       "                                            post_url  category_id  \\\n",
       "0  http://alwatan.kuwait.tt/articledetails.aspx?i...            1   \n",
       "1            https://www.alqabas.com/article/5897771            1   \n",
       "2            https://www.alqabas.com/article/5897770            1   \n",
       "3         https://www.scpd.gov.kw/Default5_news.aspx            4   \n",
       "4  http://www.pifss.gov.kw/sites/Ar/Pages/NewsDet...           22   \n",
       "\n",
       "                                           image_url  \\\n",
       "0  http://watanmedia.seyasi.com/resources/media/i...   \n",
       "1  https://dqnxlhsgmg1ih.cloudfront.net/storage/a...   \n",
       "2  https://dqnxlhsgmg1ih.cloudfront.net/storage/a...   \n",
       "3  https://www.scpd.gov.kw/NewsOthers/original_so...   \n",
       "4                                               None   \n",
       "\n",
       "                                            contents  \\\n",
       "0  \\n                                    أصدر وكي...   \n",
       "1  مي السكري -أكد سفير جمهورية كوريا لدى الكويت ت...   \n",
       "2  مي السكري -دعا السفير القبرص لدى البلاد، مايكل...   \n",
       "3  \\r\\n                                          ...   \n",
       "4  \\n\\n\\n\\n\\n\\nالكويت 25 أكتوبر 2022 – توضيحًا لل...   \n",
       "\n",
       "            published_date_and_time  \\\n",
       "0               2022-11-01T00:00:00   \n",
       "1  2022-10-31T18:29:02.465000+00:00   \n",
       "2  2022-10-31T18:26:42.598000+00:00   \n",
       "3               2022-10-26T00:00:00   \n",
       "4               2022-10-25T00:00:00   \n",
       "\n",
       "                                         author_name  main_category_id  ...  \\\n",
       "0                                            alwatan                 1  ...   \n",
       "1                                            alqabas                 1  ...   \n",
       "2                                            alqabas                 1  ...   \n",
       "3  General Secretariat of Supreme Council for Pla...                 2  ...   \n",
       "4   Public Institution for Social Security in Kuwait                 2  ...   \n",
       "\n",
       "   tweet_created_at tweet_text tweet_id vdo_title  vdo_description  \\\n",
       "0              None       None     None      None             None   \n",
       "1              None       None     None      None             None   \n",
       "2              None       None     None      None             None   \n",
       "3              None       None     None      None             None   \n",
       "4              None       None     None      None             None   \n",
       "\n",
       "   vdo_published_at vdo_thumbnail vdo_url active_id trending_count  \n",
       "0              None          None    None      None           None  \n",
       "1              None          None    None      None           None  \n",
       "2              None          None    None      None           None  \n",
       "3              None          None    None      None           None  \n",
       "4              None          None    None      None           None  \n",
       "\n",
       "[5 rows x 29 columns]"
      ]
     },
     "execution_count": 24,
     "metadata": {},
     "output_type": "execute_result"
    }
   ],
   "source": [
    "dataset.head(5)"
   ]
  },
  {
   "cell_type": "code",
   "execution_count": 7,
   "metadata": {},
   "outputs": [
    {
     "data": {
      "text/html": [
       "<div>\n",
       "<style scoped>\n",
       "    .dataframe tbody tr th:only-of-type {\n",
       "        vertical-align: middle;\n",
       "    }\n",
       "\n",
       "    .dataframe tbody tr th {\n",
       "        vertical-align: top;\n",
       "    }\n",
       "\n",
       "    .dataframe thead th {\n",
       "        text-align: right;\n",
       "    }\n",
       "</style>\n",
       "<table border=\"1\" class=\"dataframe\">\n",
       "  <thead>\n",
       "    <tr style=\"text-align: right;\">\n",
       "      <th></th>\n",
       "      <th>post_id</th>\n",
       "      <th>title</th>\n",
       "      <th>agency_id</th>\n",
       "      <th>post_url</th>\n",
       "      <th>category_id</th>\n",
       "      <th>image_url</th>\n",
       "      <th>contents</th>\n",
       "      <th>published_date_and_time</th>\n",
       "      <th>author_name</th>\n",
       "      <th>main_category_id</th>\n",
       "      <th>...</th>\n",
       "      <th>tweet_created_at</th>\n",
       "      <th>tweet_text</th>\n",
       "      <th>tweet_id</th>\n",
       "      <th>vdo_title</th>\n",
       "      <th>vdo_description</th>\n",
       "      <th>vdo_published_at</th>\n",
       "      <th>vdo_thumbnail</th>\n",
       "      <th>vdo_url</th>\n",
       "      <th>active_id</th>\n",
       "      <th>trending_count</th>\n",
       "    </tr>\n",
       "  </thead>\n",
       "  <tbody>\n",
       "    <tr>\n",
       "      <th>20939</th>\n",
       "      <td>20972</td>\n",
       "      <td>محاضرة مرورية توعوية في كلية التربية بجامعة ال...</td>\n",
       "      <td>280</td>\n",
       "      <td>https://twitter.com/traffic_kwt</td>\n",
       "      <td>3</td>\n",
       "      <td>http://pbs.twimg.com/media/Fgfi3TaXwAEkqsS.jpg</td>\n",
       "      <td>None</td>\n",
       "      <td>2022-11-01T16:10:03</td>\n",
       "      <td>None</td>\n",
       "      <td>2</td>\n",
       "      <td>...</td>\n",
       "      <td>2022-11-01 22:18:54</td>\n",
       "      <td>محاضرة مرورية توعوية في كلية التربية بجامعة ال...</td>\n",
       "      <td>https://twitter.com/twitter/statuses/158748685...</td>\n",
       "      <td>None</td>\n",
       "      <td>None</td>\n",
       "      <td>NaT</td>\n",
       "      <td>None</td>\n",
       "      <td>None</td>\n",
       "      <td>None</td>\n",
       "      <td>None</td>\n",
       "    </tr>\n",
       "    <tr>\n",
       "      <th>20940</th>\n",
       "      <td>20973</td>\n",
       "      <td>د. يوسف الجارد: 94 ألف طلب إسكاني مُعلّق تعكس ...</td>\n",
       "      <td>155</td>\n",
       "      <td>http://khalejianews.com/posts/4540</td>\n",
       "      <td>1</td>\n",
       "      <td>https://khalejianews.com/storage/5610/63614754...</td>\n",
       "      <td>نظّم الشاعر والأديب ماجد الجارد ندوة «آخر المس...</td>\n",
       "      <td>2022-11-01T16:21:49.821168</td>\n",
       "      <td>khalejinews</td>\n",
       "      <td>1</td>\n",
       "      <td>...</td>\n",
       "      <td>NaT</td>\n",
       "      <td>None</td>\n",
       "      <td>None</td>\n",
       "      <td>None</td>\n",
       "      <td>None</td>\n",
       "      <td>NaT</td>\n",
       "      <td>None</td>\n",
       "      <td>None</td>\n",
       "      <td>None</td>\n",
       "      <td>None</td>\n",
       "    </tr>\n",
       "    <tr>\n",
       "      <th>20941</th>\n",
       "      <td>20974</td>\n",
       "      <td>حرب بيانات بين «الجهاز المركزي» وجمعية المحامين</td>\n",
       "      <td>155</td>\n",
       "      <td>http://khalejianews.com/posts/4536</td>\n",
       "      <td>1</td>\n",
       "      <td>https://khalejianews.com/storage/5606/63611c73...</td>\n",
       "      <td>حرب بيانات استعرت بين الجهاز المركزي لمعالجة أ...</td>\n",
       "      <td>2022-11-01T14:09:40.401917</td>\n",
       "      <td>khalejinews</td>\n",
       "      <td>1</td>\n",
       "      <td>...</td>\n",
       "      <td>NaT</td>\n",
       "      <td>None</td>\n",
       "      <td>None</td>\n",
       "      <td>None</td>\n",
       "      <td>None</td>\n",
       "      <td>NaT</td>\n",
       "      <td>None</td>\n",
       "      <td>None</td>\n",
       "      <td>None</td>\n",
       "      <td>None</td>\n",
       "    </tr>\n",
       "    <tr>\n",
       "      <th>20942</th>\n",
       "      <td>20975</td>\n",
       "      <td>سفير الكويت في ألمانيا يؤكد سعي الكويت لانتهاج...</td>\n",
       "      <td>155</td>\n",
       "      <td>http://khalejianews.com/posts/4537</td>\n",
       "      <td>1</td>\n",
       "      <td>https://khalejianews.com/storage/5607/636122d4...</td>\n",
       "      <td>برلين - 1 - 11 (كونا) -- اكد سفير دولة الكويت ...</td>\n",
       "      <td>2022-11-01T14:09:42.343141</td>\n",
       "      <td>khalejinews</td>\n",
       "      <td>1</td>\n",
       "      <td>...</td>\n",
       "      <td>NaT</td>\n",
       "      <td>None</td>\n",
       "      <td>None</td>\n",
       "      <td>None</td>\n",
       "      <td>None</td>\n",
       "      <td>NaT</td>\n",
       "      <td>None</td>\n",
       "      <td>None</td>\n",
       "      <td>None</td>\n",
       "      <td>None</td>\n",
       "    </tr>\n",
       "    <tr>\n",
       "      <th>20943</th>\n",
       "      <td>20976</td>\n",
       "      <td>خلال لقائه ممثل سمو رئيس مجلس الوزراء وزير الد...</td>\n",
       "      <td>155</td>\n",
       "      <td>http://khalejianews.com/posts/4539</td>\n",
       "      <td>1</td>\n",
       "      <td>https://khalejianews.com/storage/5609/63612e94...</td>\n",
       "      <td>العقبة (الاردن) - 1 - 11 (كونا) -- اكد رئيس ال...</td>\n",
       "      <td>2022-11-01T15:09:44.880124</td>\n",
       "      <td>khalejinews</td>\n",
       "      <td>1</td>\n",
       "      <td>...</td>\n",
       "      <td>NaT</td>\n",
       "      <td>None</td>\n",
       "      <td>None</td>\n",
       "      <td>None</td>\n",
       "      <td>None</td>\n",
       "      <td>NaT</td>\n",
       "      <td>None</td>\n",
       "      <td>None</td>\n",
       "      <td>None</td>\n",
       "      <td>None</td>\n",
       "    </tr>\n",
       "  </tbody>\n",
       "</table>\n",
       "<p>5 rows × 29 columns</p>\n",
       "</div>"
      ],
      "text/plain": [
       "       post_id                                              title  agency_id  \\\n",
       "20939    20972  محاضرة مرورية توعوية في كلية التربية بجامعة ال...        280   \n",
       "20940    20973  د. يوسف الجارد: 94 ألف طلب إسكاني مُعلّق تعكس ...        155   \n",
       "20941    20974    حرب بيانات بين «الجهاز المركزي» وجمعية المحامين        155   \n",
       "20942    20975  سفير الكويت في ألمانيا يؤكد سعي الكويت لانتهاج...        155   \n",
       "20943    20976  خلال لقائه ممثل سمو رئيس مجلس الوزراء وزير الد...        155   \n",
       "\n",
       "                                 post_url  category_id  \\\n",
       "20939     https://twitter.com/traffic_kwt            3   \n",
       "20940  http://khalejianews.com/posts/4540            1   \n",
       "20941  http://khalejianews.com/posts/4536            1   \n",
       "20942  http://khalejianews.com/posts/4537            1   \n",
       "20943  http://khalejianews.com/posts/4539            1   \n",
       "\n",
       "                                               image_url  \\\n",
       "20939     http://pbs.twimg.com/media/Fgfi3TaXwAEkqsS.jpg   \n",
       "20940  https://khalejianews.com/storage/5610/63614754...   \n",
       "20941  https://khalejianews.com/storage/5606/63611c73...   \n",
       "20942  https://khalejianews.com/storage/5607/636122d4...   \n",
       "20943  https://khalejianews.com/storage/5609/63612e94...   \n",
       "\n",
       "                                                contents  \\\n",
       "20939                                               None   \n",
       "20940  نظّم الشاعر والأديب ماجد الجارد ندوة «آخر المس...   \n",
       "20941  حرب بيانات استعرت بين الجهاز المركزي لمعالجة أ...   \n",
       "20942  برلين - 1 - 11 (كونا) -- اكد سفير دولة الكويت ...   \n",
       "20943  العقبة (الاردن) - 1 - 11 (كونا) -- اكد رئيس ال...   \n",
       "\n",
       "          published_date_and_time  author_name  main_category_id  ...  \\\n",
       "20939         2022-11-01T16:10:03         None                 2  ...   \n",
       "20940  2022-11-01T16:21:49.821168  khalejinews                 1  ...   \n",
       "20941  2022-11-01T14:09:40.401917  khalejinews                 1  ...   \n",
       "20942  2022-11-01T14:09:42.343141  khalejinews                 1  ...   \n",
       "20943  2022-11-01T15:09:44.880124  khalejinews                 1  ...   \n",
       "\n",
       "         tweet_created_at                                         tweet_text  \\\n",
       "20939 2022-11-01 22:18:54  محاضرة مرورية توعوية في كلية التربية بجامعة ال...   \n",
       "20940                 NaT                                               None   \n",
       "20941                 NaT                                               None   \n",
       "20942                 NaT                                               None   \n",
       "20943                 NaT                                               None   \n",
       "\n",
       "                                                tweet_id vdo_title  \\\n",
       "20939  https://twitter.com/twitter/statuses/158748685...      None   \n",
       "20940                                               None      None   \n",
       "20941                                               None      None   \n",
       "20942                                               None      None   \n",
       "20943                                               None      None   \n",
       "\n",
       "       vdo_description  vdo_published_at vdo_thumbnail vdo_url active_id  \\\n",
       "20939             None               NaT          None    None      None   \n",
       "20940             None               NaT          None    None      None   \n",
       "20941             None               NaT          None    None      None   \n",
       "20942             None               NaT          None    None      None   \n",
       "20943             None               NaT          None    None      None   \n",
       "\n",
       "      trending_count  \n",
       "20939           None  \n",
       "20940           None  \n",
       "20941           None  \n",
       "20942           None  \n",
       "20943           None  \n",
       "\n",
       "[5 rows x 29 columns]"
      ]
     },
     "execution_count": 7,
     "metadata": {},
     "output_type": "execute_result"
    }
   ],
   "source": [
    "dataset.tail(5)"
   ]
  },
  {
   "cell_type": "code",
   "execution_count": 91,
   "metadata": {},
   "outputs": [
    {
     "ename": "SyntaxError",
     "evalue": "invalid syntax (3348577368.py, line 1)",
     "output_type": "error",
     "traceback": [
      "\u001b[1;36m  Input \u001b[1;32mIn [91]\u001b[1;36m\u001b[0m\n\u001b[1;33m    SELECT post_id, title, contents, author_name FROM posts where source_id=1; INTO OUTFILE 'C:/ProgramData/MySQL/MySQL Server 8.0/Uploads/arabic_data_new.csv' FIELDS TERMINATED BY ',' ENCLOSED BY '\"' LINES TERMINATED BY '\\n';\u001b[0m\n\u001b[1;37m           ^\u001b[0m\n\u001b[1;31mSyntaxError\u001b[0m\u001b[1;31m:\u001b[0m invalid syntax\n"
     ]
    }
   ],
   "source": []
  },
  {
   "cell_type": "code",
   "execution_count": 56,
   "metadata": {},
   "outputs": [
    {
     "data": {
      "text/html": [
       "<div>\n",
       "<style scoped>\n",
       "    .dataframe tbody tr th:only-of-type {\n",
       "        vertical-align: middle;\n",
       "    }\n",
       "\n",
       "    .dataframe tbody tr th {\n",
       "        vertical-align: top;\n",
       "    }\n",
       "\n",
       "    .dataframe thead th {\n",
       "        text-align: right;\n",
       "    }\n",
       "</style>\n",
       "<table border=\"1\" class=\"dataframe\">\n",
       "  <thead>\n",
       "    <tr style=\"text-align: right;\">\n",
       "      <th></th>\n",
       "      <th>post_id</th>\n",
       "      <th>title</th>\n",
       "      <th>agency_id</th>\n",
       "      <th>post_url</th>\n",
       "      <th>category_id</th>\n",
       "      <th>image_url</th>\n",
       "      <th>contents</th>\n",
       "      <th>published_date_and_time</th>\n",
       "      <th>author_name</th>\n",
       "      <th>main_category_id</th>\n",
       "      <th>...</th>\n",
       "      <th>tweet_created_at</th>\n",
       "      <th>tweet_text</th>\n",
       "      <th>tweet_id</th>\n",
       "      <th>vdo_title</th>\n",
       "      <th>vdo_description</th>\n",
       "      <th>vdo_published_at</th>\n",
       "      <th>vdo_thumbnail</th>\n",
       "      <th>vdo_url</th>\n",
       "      <th>active_id</th>\n",
       "      <th>trending_count</th>\n",
       "    </tr>\n",
       "  </thead>\n",
       "  <tbody>\n",
       "    <tr>\n",
       "      <th>0</th>\n",
       "      <td>1</td>\n",
       "      <td>نا ب ر يس مجلس ال مة محمد المطير يفتتح جلسة ال...</td>\n",
       "      <td>1</td>\n",
       "      <td>https://twitter.com/alqabas</td>\n",
       "      <td>9</td>\n",
       "      <td>NaN</td>\n",
       "      <td>NaN</td>\n",
       "      <td>2022-11-01T06:10:04</td>\n",
       "      <td>NaN</td>\n",
       "      <td>1</td>\n",
       "      <td>...</td>\n",
       "      <td>2022-11-01 11:38:31</td>\n",
       "      <td>نا ب ر يس مجلس ال مة محمد المطير يفتتح جلسة ال...</td>\n",
       "      <td>https://twitter.com/twitter/statuses/158732569...</td>\n",
       "      <td>NaN</td>\n",
       "      <td>NaN</td>\n",
       "      <td>NaN</td>\n",
       "      <td>NaN</td>\n",
       "      <td>NaN</td>\n",
       "      <td>NaN</td>\n",
       "      <td>NaN</td>\n",
       "    </tr>\n",
       "    <tr>\n",
       "      <th>1</th>\n",
       "      <td>2</td>\n",
       "      <td>د. عبدالله النفيسي: عثمان عبدالملك سكن في شقة</td>\n",
       "      <td>1</td>\n",
       "      <td>https://www.youtube.com/playlist?list=PLsmKD0j...</td>\n",
       "      <td>8</td>\n",
       "      <td>NaN</td>\n",
       "      <td>NaN</td>\n",
       "      <td>2022-11-01T06:10:04</td>\n",
       "      <td>NaN</td>\n",
       "      <td>1</td>\n",
       "      <td>...</td>\n",
       "      <td>NaN</td>\n",
       "      <td>NaN</td>\n",
       "      <td>NaN</td>\n",
       "      <td>د. عبدالله النفيسي: عثمان عبدالملك سكن في شقة</td>\n",
       "      <td>#القبس #مع_النفيسي #عثمان_عبدالملك #عبدالله_ال...</td>\n",
       "      <td>2022-11-01 00:54:40</td>\n",
       "      <td>https://i.ytimg.com/vi/569BsUkR3xc/default.jpg</td>\n",
       "      <td>https://www.youtube.com/embed/569BsUkR3xc</td>\n",
       "      <td>NaN</td>\n",
       "      <td>NaN</td>\n",
       "    </tr>\n",
       "    <tr>\n",
       "      <th>2</th>\n",
       "      <td>3</td>\n",
       "      <td>طيران الجزيرة تزيد رباحها لى 20 7 مليون دينار ...</td>\n",
       "      <td>1</td>\n",
       "      <td>https://twitter.com/alqabas</td>\n",
       "      <td>9</td>\n",
       "      <td>NaN</td>\n",
       "      <td>NaN</td>\n",
       "      <td>2022-11-01T06:10:04</td>\n",
       "      <td>NaN</td>\n",
       "      <td>1</td>\n",
       "      <td>...</td>\n",
       "      <td>2022-11-01 03:14:15</td>\n",
       "      <td>طيران الجزيرة تزيد رباحها لى 20 7 مليون دينار ...</td>\n",
       "      <td>https://twitter.com/twitter/statuses/158719879...</td>\n",
       "      <td>NaN</td>\n",
       "      <td>NaN</td>\n",
       "      <td>NaN</td>\n",
       "      <td>NaN</td>\n",
       "      <td>NaN</td>\n",
       "      <td>NaN</td>\n",
       "      <td>NaN</td>\n",
       "    </tr>\n",
       "    <tr>\n",
       "      <th>3</th>\n",
       "      <td>4</td>\n",
       "      <td>ذاكرة الأندلس.. فعالية تفتح جرحاً وتوثق تاريخا...</td>\n",
       "      <td>1</td>\n",
       "      <td>https://www.youtube.com/playlist?list=PLsmKD0j...</td>\n",
       "      <td>8</td>\n",
       "      <td>NaN</td>\n",
       "      <td>NaN</td>\n",
       "      <td>2022-11-01T06:10:04</td>\n",
       "      <td>NaN</td>\n",
       "      <td>1</td>\n",
       "      <td>...</td>\n",
       "      <td>NaN</td>\n",
       "      <td>NaN</td>\n",
       "      <td>NaN</td>\n",
       "      <td>ذاكرة الأندلس.. فعالية تفتح جرحاً وتوثق تاريخا...</td>\n",
       "      <td>إشترك الآن في قناة القبس الرسمية\\nhttps://www....</td>\n",
       "      <td>2022-10-31 23:12:03</td>\n",
       "      <td>https://i.ytimg.com/vi/lrb2gjrp-e0/default.jpg</td>\n",
       "      <td>https://www.youtube.com/embed/lrb2gjrp-e0</td>\n",
       "      <td>NaN</td>\n",
       "      <td>NaN</td>\n",
       "    </tr>\n",
       "    <tr>\n",
       "      <th>4</th>\n",
       "      <td>5</td>\n",
       "      <td>القضا ينتصر لكرامة ال نسان الكلبجات ممنوعة داخ...</td>\n",
       "      <td>1</td>\n",
       "      <td>https://twitter.com/alqabas</td>\n",
       "      <td>9</td>\n",
       "      <td>NaN</td>\n",
       "      <td>NaN</td>\n",
       "      <td>2022-11-01T06:10:04</td>\n",
       "      <td>NaN</td>\n",
       "      <td>1</td>\n",
       "      <td>...</td>\n",
       "      <td>2022-11-01 02:32:50</td>\n",
       "      <td>القضا ينتصر لكرامة ال نسان الكلبجات ممنوعة داخ...</td>\n",
       "      <td>https://twitter.com/twitter/statuses/158718837...</td>\n",
       "      <td>NaN</td>\n",
       "      <td>NaN</td>\n",
       "      <td>NaN</td>\n",
       "      <td>NaN</td>\n",
       "      <td>NaN</td>\n",
       "      <td>NaN</td>\n",
       "      <td>NaN</td>\n",
       "    </tr>\n",
       "  </tbody>\n",
       "</table>\n",
       "<p>5 rows × 29 columns</p>\n",
       "</div>"
      ],
      "text/plain": [
       "  post_id                                              title agency_id  \\\n",
       "0       1  نا ب ر يس مجلس ال مة محمد المطير يفتتح جلسة ال...         1   \n",
       "1       2      د. عبدالله النفيسي: عثمان عبدالملك سكن في شقة         1   \n",
       "2       3  طيران الجزيرة تزيد رباحها لى 20 7 مليون دينار ...         1   \n",
       "3       4  ذاكرة الأندلس.. فعالية تفتح جرحاً وتوثق تاريخا...         1   \n",
       "4       5  القضا ينتصر لكرامة ال نسان الكلبجات ممنوعة داخ...         1   \n",
       "\n",
       "                                            post_url category_id image_url  \\\n",
       "0                        https://twitter.com/alqabas           9       NaN   \n",
       "1  https://www.youtube.com/playlist?list=PLsmKD0j...           8       NaN   \n",
       "2                        https://twitter.com/alqabas           9       NaN   \n",
       "3  https://www.youtube.com/playlist?list=PLsmKD0j...           8       NaN   \n",
       "4                        https://twitter.com/alqabas           9       NaN   \n",
       "\n",
       "  contents published_date_and_time author_name main_category_id  ...  \\\n",
       "0      NaN     2022-11-01T06:10:04         NaN                1  ...   \n",
       "1      NaN     2022-11-01T06:10:04         NaN                1  ...   \n",
       "2      NaN     2022-11-01T06:10:04         NaN                1  ...   \n",
       "3      NaN     2022-11-01T06:10:04         NaN                1  ...   \n",
       "4      NaN     2022-11-01T06:10:04         NaN                1  ...   \n",
       "\n",
       "      tweet_created_at                                         tweet_text  \\\n",
       "0  2022-11-01 11:38:31  نا ب ر يس مجلس ال مة محمد المطير يفتتح جلسة ال...   \n",
       "1                  NaN                                                NaN   \n",
       "2  2022-11-01 03:14:15  طيران الجزيرة تزيد رباحها لى 20 7 مليون دينار ...   \n",
       "3                  NaN                                                NaN   \n",
       "4  2022-11-01 02:32:50  القضا ينتصر لكرامة ال نسان الكلبجات ممنوعة داخ...   \n",
       "\n",
       "                                            tweet_id  \\\n",
       "0  https://twitter.com/twitter/statuses/158732569...   \n",
       "1                                                NaN   \n",
       "2  https://twitter.com/twitter/statuses/158719879...   \n",
       "3                                                NaN   \n",
       "4  https://twitter.com/twitter/statuses/158718837...   \n",
       "\n",
       "                                           vdo_title  \\\n",
       "0                                                NaN   \n",
       "1      د. عبدالله النفيسي: عثمان عبدالملك سكن في شقة   \n",
       "2                                                NaN   \n",
       "3  ذاكرة الأندلس.. فعالية تفتح جرحاً وتوثق تاريخا...   \n",
       "4                                                NaN   \n",
       "\n",
       "                                     vdo_description     vdo_published_at  \\\n",
       "0                                                NaN                  NaN   \n",
       "1  #القبس #مع_النفيسي #عثمان_عبدالملك #عبدالله_ال...  2022-11-01 00:54:40   \n",
       "2                                                NaN                  NaN   \n",
       "3  إشترك الآن في قناة القبس الرسمية\\nhttps://www....  2022-10-31 23:12:03   \n",
       "4                                                NaN                  NaN   \n",
       "\n",
       "                                    vdo_thumbnail  \\\n",
       "0                                             NaN   \n",
       "1  https://i.ytimg.com/vi/569BsUkR3xc/default.jpg   \n",
       "2                                             NaN   \n",
       "3  https://i.ytimg.com/vi/lrb2gjrp-e0/default.jpg   \n",
       "4                                             NaN   \n",
       "\n",
       "                                     vdo_url  active_id trending_count  \n",
       "0                                        NaN        NaN            NaN  \n",
       "1  https://www.youtube.com/embed/569BsUkR3xc        NaN            NaN  \n",
       "2                                        NaN        NaN            NaN  \n",
       "3  https://www.youtube.com/embed/lrb2gjrp-e0        NaN            NaN  \n",
       "4                                        NaN        NaN            NaN  \n",
       "\n",
       "[5 rows x 29 columns]"
      ]
     },
     "execution_count": 56,
     "metadata": {},
     "output_type": "execute_result"
    }
   ],
   "source": [
    "dataset.head(5)"
   ]
  },
  {
   "cell_type": "code",
   "execution_count": 47,
   "metadata": {},
   "outputs": [
    {
     "data": {
      "text/plain": [
       "array(['local news', nan], dtype=object)"
      ]
     },
     "execution_count": 47,
     "metadata": {},
     "output_type": "execute_result"
    }
   ],
   "source": [
    "dataset[\"category\"].unique()"
   ]
  },
  {
   "cell_type": "code",
   "execution_count": 24,
   "metadata": {},
   "outputs": [],
   "source": [
    "dataset.dropna(axis=0,inplace=True)\n",
    "# removing all special characters \n",
    "\n",
    "exp='[\\u0627-\\u064aA-Za-z]+' #re to get arabic and english , i had eliminated numbers and special characters because they dont have much influence \n",
    "dataset[\"contents\"]=dataset['contents'].apply(lambda data : \" \".join(re.findall(exp,data)))\n",
    "dataset[\"category\"]=dataset[\"category\"].apply(lambda data : \" \".join(re.findall(exp,data)))\n",
    "dataset[\"title\"]=dataset[\"title\"].apply(lambda data : \" \".join(re.findall(exp,data)))\n",
    "empty_str_contents=dataset.loc[dataset[\"contents\"]==r\"\"].index\n",
    "empty_str_title=dataset.loc[dataset[\"title\"]==r\"\"].index\n",
    "empty_str_category=dataset.loc[dataset[\"category\"]==\"\"].index\n",
    "dataset.drop(list(empty_str_contents),axis=0,inplace=True)"
   ]
  },
  {
   "cell_type": "code",
   "execution_count": 25,
   "metadata": {},
   "outputs": [],
   "source": [
    "def cleanText(text):\n",
    "    text = BeautifulSoup(text, \"lxml\").text\n",
    "    text = re.sub(r'\\|\\|\\|', r' ', text) \n",
    "    text = re.sub(r'http\\S+', r'<URL>', text)\n",
    "    # text = text.lower()\n",
    "    # text = text.replace('x', '')\n",
    "    return text\n",
    "\n",
    "dataset[\"title\"]=dataset[\"title\"].apply(cleanText)\n",
    "dataset[\"contents\"]=dataset[\"contents\"].apply(cleanText)\n",
    "dataset[\"category\"]=dataset[\"category\"].apply(cleanText)"
   ]
  },
  {
   "cell_type": "code",
   "execution_count": 26,
   "metadata": {},
   "outputs": [],
   "source": [
    "dataset.drop('author_name',axis=1,inplace=True)"
   ]
  },
  {
   "cell_type": "code",
   "execution_count": 27,
   "metadata": {},
   "outputs": [
    {
     "data": {
      "text/html": [
       "<div>\n",
       "<style scoped>\n",
       "    .dataframe tbody tr th:only-of-type {\n",
       "        vertical-align: middle;\n",
       "    }\n",
       "\n",
       "    .dataframe tbody tr th {\n",
       "        vertical-align: top;\n",
       "    }\n",
       "\n",
       "    .dataframe thead th {\n",
       "        text-align: right;\n",
       "    }\n",
       "</style>\n",
       "<table border=\"1\" class=\"dataframe\">\n",
       "  <thead>\n",
       "    <tr style=\"text-align: right;\">\n",
       "      <th></th>\n",
       "      <th>index</th>\n",
       "      <th>title</th>\n",
       "      <th>contents</th>\n",
       "      <th>category</th>\n",
       "    </tr>\n",
       "  </thead>\n",
       "  <tbody>\n",
       "    <tr>\n",
       "      <th>0</th>\n",
       "      <td>3</td>\n",
       "      <td>سمو نا ب ال مير وولي العهد يهن الملك تشارلز ال...</td>\n",
       "      <td>كونا بعث سمو نا ب ال مير وولي العهد الشيخ مشعل...</td>\n",
       "      <td>local news</td>\n",
       "    </tr>\n",
       "    <tr>\n",
       "      <th>1</th>\n",
       "      <td>4</td>\n",
       "      <td>سمو ال مير يهن تشارلز الثالث بمناسبة عتلا ه ال...</td>\n",
       "      <td>كونا بعث سمو مير البلاد الشيخ نواف ال حمد ببرق...</td>\n",
       "      <td>local news</td>\n",
       "    </tr>\n",
       "    <tr>\n",
       "      <th>2</th>\n",
       "      <td>5</td>\n",
       "      <td>مستشفى الطب الطبيعي والت هيل يحتفل باليوم العا...</td>\n",
       "      <td>احتفل مستشفى الطب الطبيعي والت هيل باليوم العا...</td>\n",
       "      <td>local news</td>\n",
       "    </tr>\n",
       "    <tr>\n",
       "      <th>3</th>\n",
       "      <td>6</td>\n",
       "      <td>الهلال ال حمر تبد حملة جمع تبرعات لمتضرري الصو...</td>\n",
       "      <td>بد ت جمعية الهلال ال حمر اليوم السبت حملة جمع ...</td>\n",
       "      <td>local news</td>\n",
       "    </tr>\n",
       "    <tr>\n",
       "      <th>4</th>\n",
       "      <td>7</td>\n",
       "      <td>السفارة البريطانية رفع العلم من ظهر اليوم حتى ...</td>\n",
       "      <td>مي السكري علنت السفارة البريطانية لدى البلاد ن...</td>\n",
       "      <td>local news</td>\n",
       "    </tr>\n",
       "    <tr>\n",
       "      <th>...</th>\n",
       "      <td>...</td>\n",
       "      <td>...</td>\n",
       "      <td>...</td>\n",
       "      <td>...</td>\n",
       "    </tr>\n",
       "    <tr>\n",
       "      <th>2362</th>\n",
       "      <td>4995</td>\n",
       "      <td>المجلس البلدي يختار عضا لجانه</td>\n",
       "      <td>اختار المجلس البلدي اليوم ال ربعا في جلسته غير...</td>\n",
       "      <td>local news</td>\n",
       "    </tr>\n",
       "    <tr>\n",
       "      <th>2363</th>\n",
       "      <td>4996</td>\n",
       "      <td>سمو نا ب ال مير وولي العهد يتلقى اتصالا من سلط...</td>\n",
       "      <td>تلقى سمو نا ب ال م ر وولي الع د الش خ نواف ال ...</td>\n",
       "      <td>local news</td>\n",
       "    </tr>\n",
       "    <tr>\n",
       "      <th>2364</th>\n",
       "      <td>4997</td>\n",
       "      <td>القوى العاملة مهلة ثلاثة شهر ل صحاب العربات ال...</td>\n",
       "      <td>مهلت الهي ة العامة للقوى العاملة صحاب المركبات...</td>\n",
       "      <td>local news</td>\n",
       "    </tr>\n",
       "    <tr>\n",
       "      <th>2365</th>\n",
       "      <td>4998</td>\n",
       "      <td>د عبدالمحسن الحويلة التعليم الخاص يلتقي صحاب ا...</td>\n",
       "      <td>التقت وزارة التربية ممثلة في قطاع التعليم الخا...</td>\n",
       "      <td>local news</td>\n",
       "    </tr>\n",
       "    <tr>\n",
       "      <th>2366</th>\n",
       "      <td>4999</td>\n",
       "      <td>الطيران المدني اعتماد مختبرات فحص الـ PCR وتحد...</td>\n",
       "      <td>كدت ال دارة العامة للطيران المدني اليوم الجمعة...</td>\n",
       "      <td>local news</td>\n",
       "    </tr>\n",
       "  </tbody>\n",
       "</table>\n",
       "<p>2367 rows × 4 columns</p>\n",
       "</div>"
      ],
      "text/plain": [
       "      index                                              title  \\\n",
       "0         3  سمو نا ب ال مير وولي العهد يهن الملك تشارلز ال...   \n",
       "1         4  سمو ال مير يهن تشارلز الثالث بمناسبة عتلا ه ال...   \n",
       "2         5  مستشفى الطب الطبيعي والت هيل يحتفل باليوم العا...   \n",
       "3         6  الهلال ال حمر تبد حملة جمع تبرعات لمتضرري الصو...   \n",
       "4         7  السفارة البريطانية رفع العلم من ظهر اليوم حتى ...   \n",
       "...     ...                                                ...   \n",
       "2362   4995                      المجلس البلدي يختار عضا لجانه   \n",
       "2363   4996  سمو نا ب ال مير وولي العهد يتلقى اتصالا من سلط...   \n",
       "2364   4997  القوى العاملة مهلة ثلاثة شهر ل صحاب العربات ال...   \n",
       "2365   4998  د عبدالمحسن الحويلة التعليم الخاص يلتقي صحاب ا...   \n",
       "2366   4999  الطيران المدني اعتماد مختبرات فحص الـ PCR وتحد...   \n",
       "\n",
       "                                               contents    category  \n",
       "0     كونا بعث سمو نا ب ال مير وولي العهد الشيخ مشعل...  local news  \n",
       "1     كونا بعث سمو مير البلاد الشيخ نواف ال حمد ببرق...  local news  \n",
       "2     احتفل مستشفى الطب الطبيعي والت هيل باليوم العا...  local news  \n",
       "3     بد ت جمعية الهلال ال حمر اليوم السبت حملة جمع ...  local news  \n",
       "4     مي السكري علنت السفارة البريطانية لدى البلاد ن...  local news  \n",
       "...                                                 ...         ...  \n",
       "2362  اختار المجلس البلدي اليوم ال ربعا في جلسته غير...  local news  \n",
       "2363  تلقى سمو نا ب ال م ر وولي الع د الش خ نواف ال ...  local news  \n",
       "2364  مهلت الهي ة العامة للقوى العاملة صحاب المركبات...  local news  \n",
       "2365  التقت وزارة التربية ممثلة في قطاع التعليم الخا...  local news  \n",
       "2366  كدت ال دارة العامة للطيران المدني اليوم الجمعة...  local news  \n",
       "\n",
       "[2367 rows x 4 columns]"
      ]
     },
     "execution_count": 27,
     "metadata": {},
     "output_type": "execute_result"
    }
   ],
   "source": [
    "dataset=dataset[[\"title\",\"contents\",\"category\"]]\n",
    "dataset.reset_index(inplace=True)\n",
    "data=dataset[\"title\"]+dataset[\"contents\"]\n",
    "data=data.to_list()\n",
    "dataset"
   ]
  },
  {
   "cell_type": "code",
   "execution_count": 28,
   "metadata": {},
   "outputs": [],
   "source": [
    "dataset.drop([\"index\",\"category\"],axis=1,inplace=True)"
   ]
  },
  {
   "cell_type": "code",
   "execution_count": 29,
   "metadata": {},
   "outputs": [
    {
     "data": {
      "text/html": [
       "<div>\n",
       "<style scoped>\n",
       "    .dataframe tbody tr th:only-of-type {\n",
       "        vertical-align: middle;\n",
       "    }\n",
       "\n",
       "    .dataframe tbody tr th {\n",
       "        vertical-align: top;\n",
       "    }\n",
       "\n",
       "    .dataframe thead th {\n",
       "        text-align: right;\n",
       "    }\n",
       "</style>\n",
       "<table border=\"1\" class=\"dataframe\">\n",
       "  <thead>\n",
       "    <tr style=\"text-align: right;\">\n",
       "      <th></th>\n",
       "      <th>title</th>\n",
       "      <th>contents</th>\n",
       "    </tr>\n",
       "  </thead>\n",
       "  <tbody>\n",
       "    <tr>\n",
       "      <th>0</th>\n",
       "      <td>سمو نا ب ال مير وولي العهد يهن الملك تشارلز ال...</td>\n",
       "      <td>كونا بعث سمو نا ب ال مير وولي العهد الشيخ مشعل...</td>\n",
       "    </tr>\n",
       "    <tr>\n",
       "      <th>1</th>\n",
       "      <td>سمو ال مير يهن تشارلز الثالث بمناسبة عتلا ه ال...</td>\n",
       "      <td>كونا بعث سمو مير البلاد الشيخ نواف ال حمد ببرق...</td>\n",
       "    </tr>\n",
       "    <tr>\n",
       "      <th>2</th>\n",
       "      <td>مستشفى الطب الطبيعي والت هيل يحتفل باليوم العا...</td>\n",
       "      <td>احتفل مستشفى الطب الطبيعي والت هيل باليوم العا...</td>\n",
       "    </tr>\n",
       "    <tr>\n",
       "      <th>3</th>\n",
       "      <td>الهلال ال حمر تبد حملة جمع تبرعات لمتضرري الصو...</td>\n",
       "      <td>بد ت جمعية الهلال ال حمر اليوم السبت حملة جمع ...</td>\n",
       "    </tr>\n",
       "    <tr>\n",
       "      <th>4</th>\n",
       "      <td>السفارة البريطانية رفع العلم من ظهر اليوم حتى ...</td>\n",
       "      <td>مي السكري علنت السفارة البريطانية لدى البلاد ن...</td>\n",
       "    </tr>\n",
       "    <tr>\n",
       "      <th>...</th>\n",
       "      <td>...</td>\n",
       "      <td>...</td>\n",
       "    </tr>\n",
       "    <tr>\n",
       "      <th>2362</th>\n",
       "      <td>المجلس البلدي يختار عضا لجانه</td>\n",
       "      <td>اختار المجلس البلدي اليوم ال ربعا في جلسته غير...</td>\n",
       "    </tr>\n",
       "    <tr>\n",
       "      <th>2363</th>\n",
       "      <td>سمو نا ب ال مير وولي العهد يتلقى اتصالا من سلط...</td>\n",
       "      <td>تلقى سمو نا ب ال م ر وولي الع د الش خ نواف ال ...</td>\n",
       "    </tr>\n",
       "    <tr>\n",
       "      <th>2364</th>\n",
       "      <td>القوى العاملة مهلة ثلاثة شهر ل صحاب العربات ال...</td>\n",
       "      <td>مهلت الهي ة العامة للقوى العاملة صحاب المركبات...</td>\n",
       "    </tr>\n",
       "    <tr>\n",
       "      <th>2365</th>\n",
       "      <td>د عبدالمحسن الحويلة التعليم الخاص يلتقي صحاب ا...</td>\n",
       "      <td>التقت وزارة التربية ممثلة في قطاع التعليم الخا...</td>\n",
       "    </tr>\n",
       "    <tr>\n",
       "      <th>2366</th>\n",
       "      <td>الطيران المدني اعتماد مختبرات فحص الـ PCR وتحد...</td>\n",
       "      <td>كدت ال دارة العامة للطيران المدني اليوم الجمعة...</td>\n",
       "    </tr>\n",
       "  </tbody>\n",
       "</table>\n",
       "<p>2367 rows × 2 columns</p>\n",
       "</div>"
      ],
      "text/plain": [
       "                                                  title  \\\n",
       "0     سمو نا ب ال مير وولي العهد يهن الملك تشارلز ال...   \n",
       "1     سمو ال مير يهن تشارلز الثالث بمناسبة عتلا ه ال...   \n",
       "2     مستشفى الطب الطبيعي والت هيل يحتفل باليوم العا...   \n",
       "3     الهلال ال حمر تبد حملة جمع تبرعات لمتضرري الصو...   \n",
       "4     السفارة البريطانية رفع العلم من ظهر اليوم حتى ...   \n",
       "...                                                 ...   \n",
       "2362                      المجلس البلدي يختار عضا لجانه   \n",
       "2363  سمو نا ب ال مير وولي العهد يتلقى اتصالا من سلط...   \n",
       "2364  القوى العاملة مهلة ثلاثة شهر ل صحاب العربات ال...   \n",
       "2365  د عبدالمحسن الحويلة التعليم الخاص يلتقي صحاب ا...   \n",
       "2366  الطيران المدني اعتماد مختبرات فحص الـ PCR وتحد...   \n",
       "\n",
       "                                               contents  \n",
       "0     كونا بعث سمو نا ب ال مير وولي العهد الشيخ مشعل...  \n",
       "1     كونا بعث سمو مير البلاد الشيخ نواف ال حمد ببرق...  \n",
       "2     احتفل مستشفى الطب الطبيعي والت هيل باليوم العا...  \n",
       "3     بد ت جمعية الهلال ال حمر اليوم السبت حملة جمع ...  \n",
       "4     مي السكري علنت السفارة البريطانية لدى البلاد ن...  \n",
       "...                                                 ...  \n",
       "2362  اختار المجلس البلدي اليوم ال ربعا في جلسته غير...  \n",
       "2363  تلقى سمو نا ب ال م ر وولي الع د الش خ نواف ال ...  \n",
       "2364  مهلت الهي ة العامة للقوى العاملة صحاب المركبات...  \n",
       "2365  التقت وزارة التربية ممثلة في قطاع التعليم الخا...  \n",
       "2366  كدت ال دارة العامة للطيران المدني اليوم الجمعة...  \n",
       "\n",
       "[2367 rows x 2 columns]"
      ]
     },
     "execution_count": 29,
     "metadata": {},
     "output_type": "execute_result"
    }
   ],
   "source": [
    "dataset"
   ]
  },
  {
   "cell_type": "code",
   "execution_count": null,
   "metadata": {},
   "outputs": [],
   "source": []
  },
  {
   "cell_type": "code",
   "execution_count": 31,
   "metadata": {},
   "outputs": [],
   "source": [
    "data=dataset[\"title\"]+dataset[\"contents\"]\n",
    "data=data.to_list()"
   ]
  },
  {
   "cell_type": "code",
   "execution_count": 33,
   "metadata": {},
   "outputs": [
    {
     "data": {
      "text/plain": [
       "2367"
      ]
     },
     "execution_count": 33,
     "metadata": {},
     "output_type": "execute_result"
    }
   ],
   "source": [
    "len(data)"
   ]
  },
  {
   "cell_type": "markdown",
   "metadata": {},
   "source": [
    "# Experiment"
   ]
  },
  {
   "cell_type": "code",
   "execution_count": 18,
   "metadata": {},
   "outputs": [],
   "source": [
    "module_url = \"https://tfhub.dev/google/universal-sentence-encoder/4\" # this is already a pretrained model ,so need of saving this model with our data\n",
    "model = hub.load(module_url)"
   ]
  },
  {
   "cell_type": "code",
   "execution_count": null,
   "metadata": {},
   "outputs": [],
   "source": [
    "embedding_gen = model(data) "
   ]
  },
  {
   "cell_type": "code",
   "execution_count": null,
   "metadata": {},
   "outputs": [],
   "source": [
    "similarity = cosine_similarity(embeddings)\n",
    "print(similarity)"
   ]
  },
  {
   "cell_type": "code",
   "execution_count": null,
   "metadata": {},
   "outputs": [],
   "source": [
    "embedding_gen.shape"
   ]
  },
  {
   "cell_type": "code",
   "execution_count": null,
   "metadata": {},
   "outputs": [],
   "source": [
    "embedding_gen[1] #vector of 1st record"
   ]
  },
  {
   "cell_type": "code",
   "execution_count": null,
   "metadata": {},
   "outputs": [],
   "source": [
    "#lets train the model with only one record and compare the results "
   ]
  },
  {
   "cell_type": "code",
   "execution_count": null,
   "metadata": {},
   "outputs": [],
   "source": [
    "temp_data=data[0]\n",
    "temp_embedding_gen = model([temp_data]) "
   ]
  },
  {
   "cell_type": "code",
   "execution_count": null,
   "metadata": {},
   "outputs": [],
   "source": [
    "temp_embedding_gen,embedding_gen[0] #same"
   ]
  },
  {
   "cell_type": "code",
   "execution_count": null,
   "metadata": {},
   "outputs": [],
   "source": [
    "#lets create a new model and check the results\n",
    "module_url = \"https://tfhub.dev/google/universal-sentence-encoder/4\" \n",
    "model1 = hub.load(module_url)\n",
    "temp_data1=data[0]\n",
    "temp_embedding_gen1 = model1([temp_data1]) "
   ]
  },
  {
   "cell_type": "code",
   "execution_count": null,
   "metadata": {},
   "outputs": [],
   "source": [
    "temp_embedding_gen1,embedding_gen[0]"
   ]
  },
  {
   "cell_type": "markdown",
   "metadata": {},
   "source": [
    "# Observation :<br>\n",
    "\"https://tfhub.dev/google/universal-sentence-encoder/4\" # this is already a pretrained model ,so no need of saving this model with our data"
   ]
  },
  {
   "cell_type": "markdown",
   "metadata": {},
   "source": [
    "# Vectorizing "
   ]
  },
  {
   "cell_type": "code",
   "execution_count": 34,
   "metadata": {},
   "outputs": [
    {
     "name": "stdout",
     "output_type": "stream",
     "text": [
      "WARNING:tensorflow:5 out of the last 5 calls to <function recreate_function.<locals>.restored_function_body at 0x000001F7E351A550> triggered tf.function retracing. Tracing is expensive and the excessive number of tracings could be due to (1) creating @tf.function repeatedly in a loop, (2) passing tensors with different shapes, (3) passing Python objects instead of tensors. For (1), please define your @tf.function outside of the loop. For (2), @tf.function has experimental_relax_shapes=True option that relaxes argument shapes that can avoid unnecessary retracing. For (3), please refer to https://www.tensorflow.org/tutorials/customization/performance#python_or_tensor_args and https://www.tensorflow.org/api_docs/python/tf/function for  more details.\n"
     ]
    },
    {
     "name": "stderr",
     "output_type": "stream",
     "text": [
      "WARNING:tensorflow:5 out of the last 5 calls to <function recreate_function.<locals>.restored_function_body at 0x000001F7E351A550> triggered tf.function retracing. Tracing is expensive and the excessive number of tracings could be due to (1) creating @tf.function repeatedly in a loop, (2) passing tensors with different shapes, (3) passing Python objects instead of tensors. For (1), please define your @tf.function outside of the loop. For (2), @tf.function has experimental_relax_shapes=True option that relaxes argument shapes that can avoid unnecessary retracing. For (3), please refer to https://www.tensorflow.org/tutorials/customization/performance#python_or_tensor_args and https://www.tensorflow.org/api_docs/python/tf/function for  more details.\n"
     ]
    }
   ],
   "source": [
    "module_url = \"https://tfhub.dev/google/universal-sentence-encoder/4\" # this is already a pretrained model ,so need of saving this model with our data\n",
    "model = hub.load(module_url)"
   ]
  },
  {
   "cell_type": "code",
   "execution_count": 35,
   "metadata": {},
   "outputs": [
    {
     "name": "stdout",
     "output_type": "stream",
     "text": [
      "WARNING:tensorflow:6 out of the last 6 calls to <function recreate_function.<locals>.restored_function_body at 0x000001F7EA805430> triggered tf.function retracing. Tracing is expensive and the excessive number of tracings could be due to (1) creating @tf.function repeatedly in a loop, (2) passing tensors with different shapes, (3) passing Python objects instead of tensors. For (1), please define your @tf.function outside of the loop. For (2), @tf.function has experimental_relax_shapes=True option that relaxes argument shapes that can avoid unnecessary retracing. For (3), please refer to https://www.tensorflow.org/tutorials/customization/performance#python_or_tensor_args and https://www.tensorflow.org/api_docs/python/tf/function for  more details.\n"
     ]
    },
    {
     "name": "stderr",
     "output_type": "stream",
     "text": [
      "WARNING:tensorflow:6 out of the last 6 calls to <function recreate_function.<locals>.restored_function_body at 0x000001F7EA805430> triggered tf.function retracing. Tracing is expensive and the excessive number of tracings could be due to (1) creating @tf.function repeatedly in a loop, (2) passing tensors with different shapes, (3) passing Python objects instead of tensors. For (1), please define your @tf.function outside of the loop. For (2), @tf.function has experimental_relax_shapes=True option that relaxes argument shapes that can avoid unnecessary retracing. For (3), please refer to https://www.tensorflow.org/tutorials/customization/performance#python_or_tensor_args and https://www.tensorflow.org/api_docs/python/tf/function for  more details.\n"
     ]
    }
   ],
   "source": [
    "embedding_gen = model(data) "
   ]
  },
  {
   "cell_type": "code",
   "execution_count": 36,
   "metadata": {},
   "outputs": [
    {
     "data": {
      "text/plain": [
       "TensorShape([2367, 512])"
      ]
     },
     "execution_count": 36,
     "metadata": {},
     "output_type": "execute_result"
    }
   ],
   "source": [
    "embedding_gen.shape"
   ]
  },
  {
   "cell_type": "markdown",
   "metadata": {},
   "source": [
    "# Dimensionality Reduction"
   ]
  },
  {
   "cell_type": "markdown",
   "metadata": {},
   "source": [
    "As seen above, all of our sentence embeddings have high dimensionality (>500 features each). A manifestation of the Curse of Dimensionality is that distance measures, such as Euclidean and Manhattan, needed for clustering become meaningless at such high dimensions (see for example “On the Surprising Behavior of Distance Metrics in High Dimensional Space” by Aggarwal et al for more details)"
   ]
  },
  {
   "cell_type": "markdown",
   "metadata": {},
   "source": [
    "### UMAP dimensionality reduction"
   ]
  },
  {
   "cell_type": "code",
   "execution_count": 37,
   "metadata": {},
   "outputs": [],
   "source": [
    "umap_embeddings = (umap.UMAP(n_neighbors=10, n_components=20, metric='cosine', \n",
    "                                random_state=24).fit_transform(embedding_gen))"
   ]
  },
  {
   "cell_type": "markdown",
   "metadata": {},
   "source": [
    "As like PCA we can't find the information retained during the process using explained varience ratio  <br>\n",
    "Reference : https://github.com/lmcinnes/umap/issues/122"
   ]
  },
  {
   "cell_type": "code",
   "execution_count": 38,
   "metadata": {},
   "outputs": [
    {
     "name": "stdout",
     "output_type": "stream",
     "text": [
      "<class 'numpy.ndarray'> \n",
      " (2367, 20) \n",
      " [[11.5372095  4.3211484  6.3942842 ...  5.2800546  8.13735    3.21148  ]\n",
      " [11.449471   4.351949   6.336443  ...  5.2598715  8.125133   3.210256 ]\n",
      " [11.369151   4.6538963  4.6798186 ...  5.293186   8.007342   3.181463 ]\n",
      " ...\n",
      " [ 7.8660035  8.055415   1.731582  ...  4.684535   8.122692   3.601575 ]\n",
      " [ 3.2206018  9.486367   2.192006  ...  4.4646344  8.336443   3.5688682]\n",
      " [10.981469   4.8999443  4.426204  ...  5.1785035  8.0259905  3.1494572]]\n"
     ]
    }
   ],
   "source": [
    "print(type(umap_embeddings),'\\n',umap_embeddings.shape,'\\n',umap_embeddings)"
   ]
  },
  {
   "cell_type": "markdown",
   "metadata": {},
   "source": [
    "# DBScan Clustering\n",
    "\n"
   ]
  },
  {
   "cell_type": "markdown",
   "metadata": {},
   "source": [
    "### parameters for tuning:<br>\n",
    " * epslon and min samples\n",
    "### problems :<br>\n",
    " * how to take points in a particular cluster\n",
    " * how to find most closest point to our input data point"
   ]
  },
  {
   "cell_type": "code",
   "execution_count": 137,
   "metadata": {},
   "outputs": [],
   "source": [
    "\n",
    "model=DBSCAN(eps=0.02,min_samples=3)"
   ]
  },
  {
   "cell_type": "code",
   "execution_count": 138,
   "metadata": {},
   "outputs": [
    {
     "data": {
      "text/plain": [
       "DBSCAN(eps=0.02, min_samples=3)"
      ]
     },
     "execution_count": 138,
     "metadata": {},
     "output_type": "execute_result"
    }
   ],
   "source": [
    "model.fit(np.array(embedding_gen))"
   ]
  },
  {
   "cell_type": "code",
   "execution_count": 141,
   "metadata": {},
   "outputs": [
    {
     "name": "stdout",
     "output_type": "stream",
     "text": [
      "<class 'numpy.ndarray'> [-1] 2367\n",
      "-1 appeared 2367 times\n"
     ]
    }
   ],
   "source": [
    "print(type(model.labels_),np.unique(model.labels_),len(model.labels_))\n",
    "for i in np.unique(model.labels_):\n",
    "    # print(i)\n",
    "    print(i,\"appeared\",np.count_nonzero(model.labels_ == i),\"times\")"
   ]
  },
  {
   "cell_type": "code",
   "execution_count": 140,
   "metadata": {},
   "outputs": [
    {
     "name": "stdout",
     "output_type": "stream",
     "text": [
      "-1 appeared 2367 times\n"
     ]
    }
   ],
   "source": [
    "for i in np.unique(model.labels_):\n",
    "    # print(i)\n",
    "    print(i,\"appeared\",np.count_nonzero(model.labels_ == i),\"times\")"
   ]
  },
  {
   "cell_type": "markdown",
   "metadata": {},
   "source": [
    "# K means Clustering"
   ]
  },
  {
   "cell_type": "code",
   "execution_count": 163,
   "metadata": {},
   "outputs": [
    {
     "ename": "KeyboardInterrupt",
     "evalue": "",
     "output_type": "error",
     "traceback": [
      "\u001b[1;31m---------------------------------------------------------------------------\u001b[0m",
      "\u001b[1;31mKeyboardInterrupt\u001b[0m                         Traceback (most recent call last)",
      "\u001b[1;32mc:\\Users\\rbw19\\OneDrive\\Desktop\\recommendation_engine\\universal_sentence_encoder.ipynb Cell 37\u001b[0m in \u001b[0;36m<cell line: 4>\u001b[1;34m()\u001b[0m\n\u001b[0;32m      <a href='vscode-notebook-cell:/c%3A/Users/rbw19/OneDrive/Desktop/recommendation_engine/universal_sentence_encoder.ipynb#Y101sZmlsZQ%3D%3D?line=3'>4</a>\u001b[0m \u001b[39mfor\u001b[39;00m cluster \u001b[39min\u001b[39;00m \u001b[39mrange\u001b[39m(\u001b[39m3\u001b[39m,clusters,\u001b[39m5\u001b[39m):\n\u001b[0;32m      <a href='vscode-notebook-cell:/c%3A/Users/rbw19/OneDrive/Desktop/recommendation_engine/universal_sentence_encoder.ipynb#Y101sZmlsZQ%3D%3D?line=4'>5</a>\u001b[0m     model\u001b[39m=\u001b[39mKMeans(cluster)\n\u001b[1;32m----> <a href='vscode-notebook-cell:/c%3A/Users/rbw19/OneDrive/Desktop/recommendation_engine/universal_sentence_encoder.ipynb#Y101sZmlsZQ%3D%3D?line=5'>6</a>\u001b[0m     model\u001b[39m.\u001b[39;49mfit(np\u001b[39m.\u001b[39;49marray(embedding_gen))\n\u001b[0;32m      <a href='vscode-notebook-cell:/c%3A/Users/rbw19/OneDrive/Desktop/recommendation_engine/universal_sentence_encoder.ipynb#Y101sZmlsZQ%3D%3D?line=6'>7</a>\u001b[0m     interia\u001b[39m.\u001b[39mappend(model\u001b[39m.\u001b[39minertia_)\n",
      "File \u001b[1;32mc:\\anaconda\\envs\\machine_learning\\lib\\site-packages\\sklearn\\cluster\\_kmeans.py:1016\u001b[0m, in \u001b[0;36mKMeans.fit\u001b[1;34m(self, X, y, sample_weight)\u001b[0m\n\u001b[0;32m   1012\u001b[0m best_inertia \u001b[39m=\u001b[39m \u001b[39mNone\u001b[39;00m\n\u001b[0;32m   1014\u001b[0m \u001b[39mfor\u001b[39;00m i \u001b[39min\u001b[39;00m \u001b[39mrange\u001b[39m(\u001b[39mself\u001b[39m\u001b[39m.\u001b[39m_n_init):\n\u001b[0;32m   1015\u001b[0m     \u001b[39m# Initialize centers\u001b[39;00m\n\u001b[1;32m-> 1016\u001b[0m     centers_init \u001b[39m=\u001b[39m \u001b[39mself\u001b[39;49m\u001b[39m.\u001b[39;49m_init_centroids(\n\u001b[0;32m   1017\u001b[0m         X, x_squared_norms\u001b[39m=\u001b[39;49mx_squared_norms, init\u001b[39m=\u001b[39;49minit,\n\u001b[0;32m   1018\u001b[0m         random_state\u001b[39m=\u001b[39;49mrandom_state)\n\u001b[0;32m   1019\u001b[0m     \u001b[39mif\u001b[39;00m \u001b[39mself\u001b[39m\u001b[39m.\u001b[39mverbose:\n\u001b[0;32m   1020\u001b[0m         \u001b[39mprint\u001b[39m(\u001b[39m\"\u001b[39m\u001b[39mInitialization complete\u001b[39m\u001b[39m\"\u001b[39m)\n",
      "File \u001b[1;32mc:\\anaconda\\envs\\machine_learning\\lib\\site-packages\\sklearn\\cluster\\_kmeans.py:934\u001b[0m, in \u001b[0;36mKMeans._init_centroids\u001b[1;34m(self, X, x_squared_norms, init, random_state, init_size)\u001b[0m\n\u001b[0;32m    931\u001b[0m     n_samples \u001b[39m=\u001b[39m X\u001b[39m.\u001b[39mshape[\u001b[39m0\u001b[39m]\n\u001b[0;32m    933\u001b[0m \u001b[39mif\u001b[39;00m \u001b[39misinstance\u001b[39m(init, \u001b[39mstr\u001b[39m) \u001b[39mand\u001b[39;00m init \u001b[39m==\u001b[39m \u001b[39m'\u001b[39m\u001b[39mk-means++\u001b[39m\u001b[39m'\u001b[39m:\n\u001b[1;32m--> 934\u001b[0m     centers, _ \u001b[39m=\u001b[39m _kmeans_plusplus(X, n_clusters,\n\u001b[0;32m    935\u001b[0m                                   random_state\u001b[39m=\u001b[39;49mrandom_state,\n\u001b[0;32m    936\u001b[0m                                   x_squared_norms\u001b[39m=\u001b[39;49mx_squared_norms)\n\u001b[0;32m    937\u001b[0m \u001b[39melif\u001b[39;00m \u001b[39misinstance\u001b[39m(init, \u001b[39mstr\u001b[39m) \u001b[39mand\u001b[39;00m init \u001b[39m==\u001b[39m \u001b[39m'\u001b[39m\u001b[39mrandom\u001b[39m\u001b[39m'\u001b[39m:\n\u001b[0;32m    938\u001b[0m     seeds \u001b[39m=\u001b[39m random_state\u001b[39m.\u001b[39mpermutation(n_samples)[:n_clusters]\n",
      "File \u001b[1;32mc:\\anaconda\\envs\\machine_learning\\lib\\site-packages\\sklearn\\cluster\\_kmeans.py:123\u001b[0m, in \u001b[0;36m_kmeans_plusplus\u001b[1;34m(X, n_clusters, x_squared_norms, random_state, n_local_trials)\u001b[0m\n\u001b[0;32m    119\u001b[0m np\u001b[39m.\u001b[39mclip(candidate_ids, \u001b[39mNone\u001b[39;00m, closest_dist_sq\u001b[39m.\u001b[39msize \u001b[39m-\u001b[39m \u001b[39m1\u001b[39m,\n\u001b[0;32m    120\u001b[0m         out\u001b[39m=\u001b[39mcandidate_ids)\n\u001b[0;32m    122\u001b[0m \u001b[39m# Compute distances to center candidates\u001b[39;00m\n\u001b[1;32m--> 123\u001b[0m distance_to_candidates \u001b[39m=\u001b[39m euclidean_distances(\n\u001b[0;32m    124\u001b[0m     X[candidate_ids], X, Y_norm_squared\u001b[39m=\u001b[39;49mx_squared_norms, squared\u001b[39m=\u001b[39;49m\u001b[39mTrue\u001b[39;49;00m)\n\u001b[0;32m    126\u001b[0m \u001b[39m# update closest distances squared and potential for each candidate\u001b[39;00m\n\u001b[0;32m    127\u001b[0m np\u001b[39m.\u001b[39mminimum(closest_dist_sq, distance_to_candidates,\n\u001b[0;32m    128\u001b[0m            out\u001b[39m=\u001b[39mdistance_to_candidates)\n",
      "File \u001b[1;32mc:\\anaconda\\envs\\machine_learning\\lib\\site-packages\\sklearn\\utils\\validation.py:63\u001b[0m, in \u001b[0;36m_deprecate_positional_args.<locals>._inner_deprecate_positional_args.<locals>.inner_f\u001b[1;34m(*args, **kwargs)\u001b[0m\n\u001b[0;32m     61\u001b[0m extra_args \u001b[39m=\u001b[39m \u001b[39mlen\u001b[39m(args) \u001b[39m-\u001b[39m \u001b[39mlen\u001b[39m(all_args)\n\u001b[0;32m     62\u001b[0m \u001b[39mif\u001b[39;00m extra_args \u001b[39m<\u001b[39m\u001b[39m=\u001b[39m \u001b[39m0\u001b[39m:\n\u001b[1;32m---> 63\u001b[0m     \u001b[39mreturn\u001b[39;00m f(\u001b[39m*\u001b[39;49margs, \u001b[39m*\u001b[39;49m\u001b[39m*\u001b[39;49mkwargs)\n\u001b[0;32m     65\u001b[0m \u001b[39m# extra_args > 0\u001b[39;00m\n\u001b[0;32m     66\u001b[0m args_msg \u001b[39m=\u001b[39m [\u001b[39m'\u001b[39m\u001b[39m{}\u001b[39;00m\u001b[39m=\u001b[39m\u001b[39m{}\u001b[39;00m\u001b[39m'\u001b[39m\u001b[39m.\u001b[39mformat(name, arg)\n\u001b[0;32m     67\u001b[0m             \u001b[39mfor\u001b[39;00m name, arg \u001b[39min\u001b[39;00m \u001b[39mzip\u001b[39m(kwonly_args[:extra_args],\n\u001b[0;32m     68\u001b[0m                                  args[\u001b[39m-\u001b[39mextra_args:])]\n",
      "File \u001b[1;32mc:\\anaconda\\envs\\machine_learning\\lib\\site-packages\\sklearn\\metrics\\pairwise.py:272\u001b[0m, in \u001b[0;36meuclidean_distances\u001b[1;34m(X, Y, Y_norm_squared, squared, X_norm_squared)\u001b[0m\n\u001b[0;32m    202\u001b[0m \u001b[39m@_deprecate_positional_args\u001b[39m\n\u001b[0;32m    203\u001b[0m \u001b[39mdef\u001b[39;00m \u001b[39meuclidean_distances\u001b[39m(X, Y\u001b[39m=\u001b[39m\u001b[39mNone\u001b[39;00m, \u001b[39m*\u001b[39m, Y_norm_squared\u001b[39m=\u001b[39m\u001b[39mNone\u001b[39;00m, squared\u001b[39m=\u001b[39m\u001b[39mFalse\u001b[39;00m,\n\u001b[0;32m    204\u001b[0m                         X_norm_squared\u001b[39m=\u001b[39m\u001b[39mNone\u001b[39;00m):\n\u001b[0;32m    205\u001b[0m     \u001b[39m\"\"\"\u001b[39;00m\n\u001b[0;32m    206\u001b[0m \u001b[39m    Considering the rows of X (and Y=X) as vectors, compute the\u001b[39;00m\n\u001b[0;32m    207\u001b[0m \u001b[39m    distance matrix between each pair of vectors.\u001b[39;00m\n\u001b[1;32m   (...)\u001b[0m\n\u001b[0;32m    270\u001b[0m \u001b[39m           [1.41421356]])\u001b[39;00m\n\u001b[0;32m    271\u001b[0m \u001b[39m    \"\"\"\u001b[39;00m\n\u001b[1;32m--> 272\u001b[0m     X, Y \u001b[39m=\u001b[39m check_pairwise_arrays(X, Y)\n\u001b[0;32m    274\u001b[0m     \u001b[39m# If norms are passed as float32, they are unused. If arrays are passed as\u001b[39;00m\n\u001b[0;32m    275\u001b[0m     \u001b[39m# float32, norms needs to be recomputed on upcast chunks.\u001b[39;00m\n\u001b[0;32m    276\u001b[0m     \u001b[39m# TODO: use a float64 accumulator in row_norms to avoid the latter.\u001b[39;00m\n\u001b[0;32m    277\u001b[0m     \u001b[39mif\u001b[39;00m X_norm_squared \u001b[39mis\u001b[39;00m \u001b[39mnot\u001b[39;00m \u001b[39mNone\u001b[39;00m:\n",
      "File \u001b[1;32mc:\\anaconda\\envs\\machine_learning\\lib\\site-packages\\sklearn\\utils\\validation.py:63\u001b[0m, in \u001b[0;36m_deprecate_positional_args.<locals>._inner_deprecate_positional_args.<locals>.inner_f\u001b[1;34m(*args, **kwargs)\u001b[0m\n\u001b[0;32m     61\u001b[0m extra_args \u001b[39m=\u001b[39m \u001b[39mlen\u001b[39m(args) \u001b[39m-\u001b[39m \u001b[39mlen\u001b[39m(all_args)\n\u001b[0;32m     62\u001b[0m \u001b[39mif\u001b[39;00m extra_args \u001b[39m<\u001b[39m\u001b[39m=\u001b[39m \u001b[39m0\u001b[39m:\n\u001b[1;32m---> 63\u001b[0m     \u001b[39mreturn\u001b[39;00m f(\u001b[39m*\u001b[39;49margs, \u001b[39m*\u001b[39;49m\u001b[39m*\u001b[39;49mkwargs)\n\u001b[0;32m     65\u001b[0m \u001b[39m# extra_args > 0\u001b[39;00m\n\u001b[0;32m     66\u001b[0m args_msg \u001b[39m=\u001b[39m [\u001b[39m'\u001b[39m\u001b[39m{}\u001b[39;00m\u001b[39m=\u001b[39m\u001b[39m{}\u001b[39;00m\u001b[39m'\u001b[39m\u001b[39m.\u001b[39mformat(name, arg)\n\u001b[0;32m     67\u001b[0m             \u001b[39mfor\u001b[39;00m name, arg \u001b[39min\u001b[39;00m \u001b[39mzip\u001b[39m(kwonly_args[:extra_args],\n\u001b[0;32m     68\u001b[0m                                  args[\u001b[39m-\u001b[39mextra_args:])]\n",
      "File \u001b[1;32mc:\\anaconda\\envs\\machine_learning\\lib\\site-packages\\sklearn\\metrics\\pairwise.py:149\u001b[0m, in \u001b[0;36mcheck_pairwise_arrays\u001b[1;34m(X, Y, precomputed, dtype, accept_sparse, force_all_finite, copy)\u001b[0m\n\u001b[0;32m    145\u001b[0m \u001b[39melse\u001b[39;00m:\n\u001b[0;32m    146\u001b[0m     X \u001b[39m=\u001b[39m check_array(X, accept_sparse\u001b[39m=\u001b[39maccept_sparse, dtype\u001b[39m=\u001b[39mdtype,\n\u001b[0;32m    147\u001b[0m                     copy\u001b[39m=\u001b[39mcopy, force_all_finite\u001b[39m=\u001b[39mforce_all_finite,\n\u001b[0;32m    148\u001b[0m                     estimator\u001b[39m=\u001b[39mestimator)\n\u001b[1;32m--> 149\u001b[0m     Y \u001b[39m=\u001b[39m check_array(Y, accept_sparse\u001b[39m=\u001b[39;49maccept_sparse, dtype\u001b[39m=\u001b[39;49mdtype,\n\u001b[0;32m    150\u001b[0m                     copy\u001b[39m=\u001b[39;49mcopy, force_all_finite\u001b[39m=\u001b[39;49mforce_all_finite,\n\u001b[0;32m    151\u001b[0m                     estimator\u001b[39m=\u001b[39;49mestimator)\n\u001b[0;32m    153\u001b[0m \u001b[39mif\u001b[39;00m precomputed:\n\u001b[0;32m    154\u001b[0m     \u001b[39mif\u001b[39;00m X\u001b[39m.\u001b[39mshape[\u001b[39m1\u001b[39m] \u001b[39m!=\u001b[39m Y\u001b[39m.\u001b[39mshape[\u001b[39m0\u001b[39m]:\n",
      "File \u001b[1;32mc:\\anaconda\\envs\\machine_learning\\lib\\site-packages\\sklearn\\utils\\validation.py:63\u001b[0m, in \u001b[0;36m_deprecate_positional_args.<locals>._inner_deprecate_positional_args.<locals>.inner_f\u001b[1;34m(*args, **kwargs)\u001b[0m\n\u001b[0;32m     61\u001b[0m extra_args \u001b[39m=\u001b[39m \u001b[39mlen\u001b[39m(args) \u001b[39m-\u001b[39m \u001b[39mlen\u001b[39m(all_args)\n\u001b[0;32m     62\u001b[0m \u001b[39mif\u001b[39;00m extra_args \u001b[39m<\u001b[39m\u001b[39m=\u001b[39m \u001b[39m0\u001b[39m:\n\u001b[1;32m---> 63\u001b[0m     \u001b[39mreturn\u001b[39;00m f(\u001b[39m*\u001b[39;49margs, \u001b[39m*\u001b[39;49m\u001b[39m*\u001b[39;49mkwargs)\n\u001b[0;32m     65\u001b[0m \u001b[39m# extra_args > 0\u001b[39;00m\n\u001b[0;32m     66\u001b[0m args_msg \u001b[39m=\u001b[39m [\u001b[39m'\u001b[39m\u001b[39m{}\u001b[39;00m\u001b[39m=\u001b[39m\u001b[39m{}\u001b[39;00m\u001b[39m'\u001b[39m\u001b[39m.\u001b[39mformat(name, arg)\n\u001b[0;32m     67\u001b[0m             \u001b[39mfor\u001b[39;00m name, arg \u001b[39min\u001b[39;00m \u001b[39mzip\u001b[39m(kwonly_args[:extra_args],\n\u001b[0;32m     68\u001b[0m                                  args[\u001b[39m-\u001b[39mextra_args:])]\n",
      "File \u001b[1;32mc:\\anaconda\\envs\\machine_learning\\lib\\site-packages\\sklearn\\utils\\validation.py:720\u001b[0m, in \u001b[0;36mcheck_array\u001b[1;34m(array, accept_sparse, accept_large_sparse, dtype, order, copy, force_all_finite, ensure_2d, allow_nd, ensure_min_samples, ensure_min_features, estimator)\u001b[0m\n\u001b[0;32m    716\u001b[0m         \u001b[39mraise\u001b[39;00m \u001b[39mValueError\u001b[39;00m(\u001b[39m\"\u001b[39m\u001b[39mFound array with dim \u001b[39m\u001b[39m%d\u001b[39;00m\u001b[39m. \u001b[39m\u001b[39m%s\u001b[39;00m\u001b[39m expected <= 2.\u001b[39m\u001b[39m\"\u001b[39m\n\u001b[0;32m    717\u001b[0m                          \u001b[39m%\u001b[39m (array\u001b[39m.\u001b[39mndim, estimator_name))\n\u001b[0;32m    719\u001b[0m     \u001b[39mif\u001b[39;00m force_all_finite:\n\u001b[1;32m--> 720\u001b[0m         _assert_all_finite(array,\n\u001b[0;32m    721\u001b[0m                            allow_nan\u001b[39m=\u001b[39;49mforce_all_finite \u001b[39m==\u001b[39;49m \u001b[39m'\u001b[39;49m\u001b[39mallow-nan\u001b[39;49m\u001b[39m'\u001b[39;49m)\n\u001b[0;32m    723\u001b[0m \u001b[39mif\u001b[39;00m ensure_min_samples \u001b[39m>\u001b[39m \u001b[39m0\u001b[39m:\n\u001b[0;32m    724\u001b[0m     n_samples \u001b[39m=\u001b[39m _num_samples(array)\n",
      "File \u001b[1;32mc:\\anaconda\\envs\\machine_learning\\lib\\site-packages\\sklearn\\utils\\validation.py:96\u001b[0m, in \u001b[0;36m_assert_all_finite\u001b[1;34m(X, allow_nan, msg_dtype)\u001b[0m\n\u001b[0;32m     91\u001b[0m \u001b[39m# First try an O(n) time, O(1) space solution for the common case that\u001b[39;00m\n\u001b[0;32m     92\u001b[0m \u001b[39m# everything is finite; fall back to O(n) space np.isfinite to prevent\u001b[39;00m\n\u001b[0;32m     93\u001b[0m \u001b[39m# false positives from overflow in sum method. The sum is also calculated\u001b[39;00m\n\u001b[0;32m     94\u001b[0m \u001b[39m# safely to reduce dtype induced overflows.\u001b[39;00m\n\u001b[0;32m     95\u001b[0m is_float \u001b[39m=\u001b[39m X\u001b[39m.\u001b[39mdtype\u001b[39m.\u001b[39mkind \u001b[39min\u001b[39;00m \u001b[39m'\u001b[39m\u001b[39mfc\u001b[39m\u001b[39m'\u001b[39m\n\u001b[1;32m---> 96\u001b[0m \u001b[39mif\u001b[39;00m is_float \u001b[39mand\u001b[39;00m (np\u001b[39m.\u001b[39misfinite(_safe_accumulator_op(np\u001b[39m.\u001b[39;49msum, X))):\n\u001b[0;32m     97\u001b[0m     \u001b[39mpass\u001b[39;00m\n\u001b[0;32m     98\u001b[0m \u001b[39melif\u001b[39;00m is_float:\n",
      "File \u001b[1;32mc:\\anaconda\\envs\\machine_learning\\lib\\site-packages\\sklearn\\utils\\extmath.py:687\u001b[0m, in \u001b[0;36m_safe_accumulator_op\u001b[1;34m(op, x, *args, **kwargs)\u001b[0m\n\u001b[0;32m    664\u001b[0m \u001b[39m\"\"\"\u001b[39;00m\n\u001b[0;32m    665\u001b[0m \u001b[39mThis function provides numpy accumulator functions with a float64 dtype\u001b[39;00m\n\u001b[0;32m    666\u001b[0m \u001b[39mwhen used on a floating point input. This prevents accumulator overflow on\u001b[39;00m\n\u001b[1;32m   (...)\u001b[0m\n\u001b[0;32m    684\u001b[0m \u001b[39m    The output of the accumulator function passed to this function.\u001b[39;00m\n\u001b[0;32m    685\u001b[0m \u001b[39m\"\"\"\u001b[39;00m\n\u001b[0;32m    686\u001b[0m \u001b[39mif\u001b[39;00m np\u001b[39m.\u001b[39missubdtype(x\u001b[39m.\u001b[39mdtype, np\u001b[39m.\u001b[39mfloating) \u001b[39mand\u001b[39;00m x\u001b[39m.\u001b[39mdtype\u001b[39m.\u001b[39mitemsize \u001b[39m<\u001b[39m \u001b[39m8\u001b[39m:\n\u001b[1;32m--> 687\u001b[0m     result \u001b[39m=\u001b[39m op(x, \u001b[39m*\u001b[39;49margs, \u001b[39m*\u001b[39;49m\u001b[39m*\u001b[39;49mkwargs, dtype\u001b[39m=\u001b[39;49mnp\u001b[39m.\u001b[39;49mfloat64)\n\u001b[0;32m    688\u001b[0m \u001b[39melse\u001b[39;00m:\n\u001b[0;32m    689\u001b[0m     result \u001b[39m=\u001b[39m op(x, \u001b[39m*\u001b[39margs, \u001b[39m*\u001b[39m\u001b[39m*\u001b[39mkwargs)\n",
      "File \u001b[1;32m<__array_function__ internals>:180\u001b[0m, in \u001b[0;36msum\u001b[1;34m(*args, **kwargs)\u001b[0m\n",
      "File \u001b[1;32mc:\\anaconda\\envs\\machine_learning\\lib\\site-packages\\numpy\\core\\fromnumeric.py:2296\u001b[0m, in \u001b[0;36msum\u001b[1;34m(a, axis, dtype, out, keepdims, initial, where)\u001b[0m\n\u001b[0;32m   2293\u001b[0m         \u001b[39mreturn\u001b[39;00m out\n\u001b[0;32m   2294\u001b[0m     \u001b[39mreturn\u001b[39;00m res\n\u001b[1;32m-> 2296\u001b[0m \u001b[39mreturn\u001b[39;00m _wrapreduction(a, np\u001b[39m.\u001b[39;49madd, \u001b[39m'\u001b[39;49m\u001b[39msum\u001b[39;49m\u001b[39m'\u001b[39;49m, axis, dtype, out, keepdims\u001b[39m=\u001b[39;49mkeepdims,\n\u001b[0;32m   2297\u001b[0m                       initial\u001b[39m=\u001b[39;49minitial, where\u001b[39m=\u001b[39;49mwhere)\n",
      "File \u001b[1;32mc:\\anaconda\\envs\\machine_learning\\lib\\site-packages\\numpy\\core\\fromnumeric.py:86\u001b[0m, in \u001b[0;36m_wrapreduction\u001b[1;34m(obj, ufunc, method, axis, dtype, out, **kwargs)\u001b[0m\n\u001b[0;32m     83\u001b[0m         \u001b[39melse\u001b[39;00m:\n\u001b[0;32m     84\u001b[0m             \u001b[39mreturn\u001b[39;00m reduction(axis\u001b[39m=\u001b[39maxis, out\u001b[39m=\u001b[39mout, \u001b[39m*\u001b[39m\u001b[39m*\u001b[39mpasskwargs)\n\u001b[1;32m---> 86\u001b[0m \u001b[39mreturn\u001b[39;00m ufunc\u001b[39m.\u001b[39;49mreduce(obj, axis, dtype, out, \u001b[39m*\u001b[39;49m\u001b[39m*\u001b[39;49mpasskwargs)\n",
      "\u001b[1;31mKeyboardInterrupt\u001b[0m: "
     ]
    }
   ],
   "source": [
    "# from cv2 imp/ort kmeans\n",
    "interia=[]  #SSE -->sum of squared distance \n",
    "clusters=500\n",
    "for cluster in range(3,clusters,5):\n",
    "    model=KMeans(cluster)\n",
    "    model.fit(np.array(embedding_gen))\n",
    "    interia.append(model.inertia_)\n"
   ]
  },
  {
   "cell_type": "code",
   "execution_count": 162,
   "metadata": {},
   "outputs": [
    {
     "data": {
      "text/plain": [
       "Text(0, 0.5, 'interia')"
      ]
     },
     "execution_count": 162,
     "metadata": {},
     "output_type": "execute_result"
    },
    {
     "data": {
      "image/png": "[encoded data removed]",
      "text/plain": [
       "<Figure size 600x600 with 1 Axes>"
      ]
     },
     "metadata": {},
     "output_type": "display_data"
    }
   ],
   "source": [
    "# plot to identify the elbow\n",
    "plt.figure(figsize=(6, 6))\n",
    "plt.plot(range(3,500,5), interia, '-o', c = 'maroon')\n",
    "plt.xlabel('No of clusters')\n",
    "plt.ylabel('interia')"
   ]
  },
  {
   "cell_type": "code",
   "execution_count": 150,
   "metadata": {},
   "outputs": [
    {
     "data": {
      "text/plain": [
       "-0.036822043"
      ]
     },
     "execution_count": 150,
     "metadata": {},
     "output_type": "execute_result"
    }
   ],
   "source": [
    "np.array(embedding_gen)[1][1]"
   ]
  },
  {
   "cell_type": "markdown",
   "metadata": {},
   "source": [
    "# HDBscan"
   ]
  },
  {
   "cell_type": "markdown",
   "metadata": {},
   "source": [
    " it is preferable to use an algorithm that does not require specifying the number of clusters upfront and can also tolerate noisy data. Density-based algorithms are a good option here as they do not require specifying the number of clusters and are indifferent to cluster shape. Hierarchical Density-Based Spatial Clustering of Applications with Noise (HDBSCAN) has become popular since it has fewer and more intuitive hyperparameters than DBSCAN and is robust to variable-density clusters."
   ]
  },
  {
   "cell_type": "code",
   "execution_count": 39,
   "metadata": {},
   "outputs": [
    {
     "name": "stdout",
     "output_type": "stream",
     "text": [
      "[ 3  3  3 ...  3 16  3] 2367\n",
      "[-1  0  1  2  3  4  5  6  7  8  9 10 11 12 13 14 15 16 17 18 19] \n",
      " 21\n"
     ]
    }
   ],
   "source": [
    "clusters = hdbscan.HDBSCAN(min_cluster_size = 3,\n",
    "                               metric='euclidean', \n",
    "                               cluster_selection_method='eom').fit(umap_embeddings)\n",
    "# hdbscan.HDBSCAN(algorithm='best', alpha=1.0, approx_min_span_tree=True,\n",
    "#                 gen_min_span_tree=False, leaf_size=40,metric='euclidean',\n",
    "#                 min_cluster_size=5, min_samples=None, p=None)\n",
    "print(clusters.labels_,len(clusters.labels_))\n",
    "print(np.unique(clusters.labels_),'\\n',len(np.unique(clusters.labels_)))"
   ]
  },
  {
   "cell_type": "code",
   "execution_count": null,
   "metadata": {},
   "outputs": [],
   "source": [
    "# By removing the category column no.of clusters reduced to 21"
   ]
  },
  {
   "cell_type": "code",
   "execution_count": 167,
   "metadata": {},
   "outputs": [],
   "source": [
    "cluster=[]\n",
    "for idx in range(len(clusters.labels_)):\n",
    "    if clusters.labels_[idx]==10: #taking dataponits of 10th cluster\n",
    "        cluster.append(idx)"
   ]
  },
  {
   "cell_type": "code",
   "execution_count": null,
   "metadata": {},
   "outputs": [],
   "source": [
    "news_cluster=[]\n",
    "for dp in cluster:\n",
    "    news_cluster.append(GoogleTranslator(source='auto', target='en').translate(data[dp][:200])) #limiting to 200 --> for easy translation\n",
    "news_cluster"
   ]
  },
  {
   "cell_type": "code",
   "execution_count": 123,
   "metadata": {},
   "outputs": [
    {
     "data": {
      "text/plain": [
       "['France awards Sheikha Intisar Al-Sabah, the Legion of Honor, with the rank of Knight',\n",
       " 'Kulthum Hussein Awad wins the presidency of the Arab Union for specialized women',\n",
       " 'Kulthum Awad wins the presidency of the Arab Union for the specialized women',\n",
       " 'The progressive movement rejects a map of restructuring the public sector, which is biased against the popular classes in favor of the big capitalists',\n",
       " 'Kuwait is the world leader in terms of order and safety in schools',\n",
       " 'The university president issues a decision to amend the distance education regulation',\n",
       " 'The Lawyers Association: Excluding nationality workers from the jurisdiction of the judiciary needs urgent legislative intervention',\n",
       " 'The Martyr’s Office launches a competition to design a model symbolizing national unity and the memorialization of martyrs',\n",
       " 'Teachers: The necessity of integrated education supported by the blended education to ensure quality and continuity',\n",
       " 'The integrity of Kuwait’s efforts against corruption resulted in the establishment of a strong system to prevent and combat it',\n",
       " 'Al-Nasser for the Non-Aligned Movement: Doing what is necessary to strengthen the role of the movement and transfer it from a dreamer to a behavior. The Minister of Foreign Affairs, Minister of State for Cabinet Affairs Sheikh Dr. Hamad Al-Nasser, the necessity of doing what is necessary to strengthen the role of the Non-Aligned Movement',\n",
       " 'Kuwait Heart Association Four decades of purposeful awareness',\n",
       " 'KIMS celebrated the renewal of obtaining institutional recognition from the Canadian Royal College of Surgeons',\n",
       " 'The Ministry of the Interior has prepared a comprehensive plan to secure Ashura. Al-Rai Al-Harir News. The Ministry of Interior is putting the final touches on its plan for the month of Muharram and securing Husseiniya councils through a field deployment accompanied by a round-the-clock operations room that includes various',\n",
       " 'Kuwait confirms that the solution to the crisis in Syria must be political.',\n",
       " 'Residential care The total number of population requests until the end of last January',\n",
       " 'Residential applications met the total population requests by the end of last November',\n",
       " 'Boushahri to exclude companies implementing infrastructure in the city of Sabah Al Hamad The Minister of State for Population Affairs Minister of State for Services Dr. Jinan Boushahri announced the issuance of a decision to exclude six companies and an engineering office from the public institution’s tenders',\n",
       " 'Educators postpone exams and cancel part of the curricula. The opinion of the educational field differs about the mechanism of compensating students for what they missed due to exceptional holidays due to weather fluctuations. While one group calls for intensifying lessons and classes, another group sees',\n",
       " 'The housing division raises the priority of allocation over the South Sabah Al Hamad city division to the end',\n",
       " 'Kuwait affirms its firm position towards combating the illicit trade in small arms and light weapons.',\n",
       " 'Kuwaiti women are deprived of leadership positions in the electricity sector, despite the passage of about a decade and a half since the state’s decision for political rights for the first time in May through a law granting them their full rights to vote and to run for office, and the subsequent appointment of parents and',\n",
       " 'Kuwait The Houthis deliberately abstained from the Geneva talks.',\n",
       " 'The total number of residential requests until the current March',\n",
       " 'Siri has been fought since the first day of this section of the forces of darkness and reaction. The Minister of Social Affairs, Dr. Ghadeer Siri, submitted her resignation today from the government, and Siri made it clear in the resignation letter that she wanted to avoid Saddam and',\n",
       " 'Sabah Al-Khaled, a veteran diplomat, His Highness the Prime Minister of the Council of Ministers, Sheikh Sabah Al-Khaled, is distinguished by his wisdom and moderate policy, which has broad Arab and international relations, in conjunction with his success in a number of files and mediations that he was undertaking in the',\n",
       " 'The youth organization continues to implement our activities in partnership with the youth, the Director General of the General Authority for Youth Abdul Rahman Al-Mutairi, today, Sunday, the continuation of the authority to implement its activities directed to the youth through direct work with them in planning and implementation',\n",
       " 'Al-Azmi has not yet obtained an equivalency for any certificate from the American University of Athens. The Minister of Education and the Minister of Higher Education, Dr. Hamed Al-Azmi told Al-Rai, “We are attending the meeting of the Parliamentary Education Committee to see all the opinions, and we have',\n",
       " 'Muhannad Al-Sayer, the public debt is defective. Lawyer Muhannad Talal Al-Sayer describes the timing of the presentation of the Public Debt Law as C, indicating that it is not a new law on the scene, as it was completed in preparation last February, before the repercussions of the Kore crisis appeared.',\n",
       " 'Conditions and controls for appointing the person charged with the care of people with disabilities The Director General of the General Authority for People with Disabilities Dr. Shafiqa Al-Awadi issued Resolution No. for the year regarding the conditions and controls for appointing the person charged with care, including a first article that must be appointed to appoint the person in charge',\n",
       " 'Minister of Youth The efforts of Kuwaiti youth in the face of the Corona pandemic stunned the world. Minister of Information and Minister of State for Youth Affairs Muhammad Al-Jabri, with the efforts of Kuwaiti youth, proved their worth in the Covid pandemic, in a way that stunned the world with the extent of their great responsibility',\n",
       " 'Dr. Abdulmohsen Al-Huwailah, private education meets with private school owners']"
      ]
     },
     "execution_count": 123,
     "metadata": {},
     "output_type": "execute_result"
    }
   ],
   "source": [
    "news_cluster=[]\n",
    "for dp in cluster:\n",
    "    news_cluster.append(GoogleTranslator(source='auto', target='en').translate(data[dp][:200])) #limiting to 200 --> for easy translation\n",
    "news_cluster"
   ]
  },
  {
   "cell_type": "code",
   "execution_count": 166,
   "metadata": {},
   "outputs": [
    {
     "data": {
      "text/plain": [
       "(array([10]), array([1.]))"
      ]
     },
     "execution_count": 166,
     "metadata": {},
     "output_type": "execute_result"
    }
   ],
   "source": [
    "test_labels, strengths=hdbscan.approximate_predict(clusters,umap_embeddings[51].reshape(1,20)) #for feeding into this we need to reshape the data with 1row and 20 cols\n",
    "test_labels,strengths # study about strenths\n",
    "#https://hdbscan.readthedocs.io/en/latest/prediction_tutorial.html"
   ]
  },
  {
   "cell_type": "markdown",
   "metadata": {},
   "source": [
    "# Evaluation metrics for clustering"
   ]
  },
  {
   "cell_type": "markdown",
   "metadata": {},
   "source": [
    "https://www.youtube.com/watch?v=psQjwfFzLrk&t=69"
   ]
  },
  {
   "cell_type": "code",
   "execution_count": null,
   "metadata": {},
   "outputs": [],
   "source": []
  },
  {
   "cell_type": "markdown",
   "metadata": {},
   "source": [
    "# Things to study  <br>\n",
    "* universal sentence encoder\n",
    "* UMAP\n",
    "* HDBSCAN"
   ]
  },
  {
   "cell_type": "code",
   "execution_count": null,
   "metadata": {},
   "outputs": [],
   "source": []
  },
  {
   "cell_type": "code",
   "execution_count": null,
   "metadata": {},
   "outputs": [],
   "source": []
  },
  {
   "cell_type": "markdown",
   "metadata": {},
   "source": [
    "# Informations\n",
    "hdbscan-0.8.28"
   ]
  },
  {
   "cell_type": "code",
   "execution_count": null,
   "metadata": {},
   "outputs": [],
   "source": []
  },
  {
   "cell_type": "code",
   "execution_count": null,
   "metadata": {},
   "outputs": [],
   "source": []
  },
  {
   "cell_type": "code",
   "execution_count": null,
   "metadata": {},
   "outputs": [],
   "source": []
  }
 ],
 "metadata": {
  "kernelspec": {
   "display_name": "Python 3.8.11 ('machine_learning')",
   "language": "python",
   "name": "python3"
  },
  "language_info": {
   "codemirror_mode": {
    "name": "ipython",
    "version": 3
   },
   "file_extension": ".py",
   "mimetype": "text/x-python",
   "name": "python",
   "nbconvert_exporter": "python",
   "pygments_lexer": "ipython3",
   "version": "3.8.11"
  },
  "orig_nbformat": 4,
  "vscode": {
   "interpreter": {
    "hash": "a9c62d8cf6e30c1639f8e9a0a261a530483935ac00f94e2882c1ade2d532fd4c"
   }
  }
 },
 "nbformat": 4,
 "nbformat_minor": 2
}
