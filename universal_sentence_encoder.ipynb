{
 "cells": [
  {
   "cell_type": "markdown",
   "metadata": {},
   "source": [
    "# Importing"
   ]
  },
  {
   "cell_type": "code",
   "execution_count": 3,
   "metadata": {},
   "outputs": [
    {
     "name": "stderr",
     "output_type": "stream",
     "text": [
      "c:\\anaconda\\envs\\machine_learning\\lib\\site-packages\\numpy\\_distributor_init.py:30: UserWarning: loaded more than 1 DLL from .libs:\n",
      "c:\\anaconda\\envs\\machine_learning\\lib\\site-packages\\numpy\\.libs\\libopenblas.GK7GX5KEQ4F6UYO3P26ULGBQYHGQO7J4.gfortran-win_amd64.dll\n",
      "c:\\anaconda\\envs\\machine_learning\\lib\\site-packages\\numpy\\.libs\\libopenblas.PYQHXLVVQ7VESDPUVUADXEVJOBGHJPAY.gfortran-win_amd64.dll\n",
      "  warnings.warn(\"loaded more than 1 DLL from .libs:\"\n"
     ]
    }
   ],
   "source": [
    "import tensorflow as tf\n",
    "import tensorflow_hub as hub"
   ]
  },
  {
   "cell_type": "code",
   "execution_count": 4,
   "metadata": {},
   "outputs": [],
   "source": [
    "import pandas as pd\n",
    "import numpy as np\n",
    "from bs4 import BeautifulSoup\n",
    "import re\n",
    "import umap # dimensionality reduction\n",
    "from sklearn.cluster import DBSCAN\n",
    "from sklearn.cluster import KMeans\n",
    "import matplotlib.pyplot as plt\n",
    "import hdbscan\n",
    "from deep_translator import GoogleTranslator"
   ]
  },
  {
   "cell_type": "markdown",
   "metadata": {},
   "source": [
    "# Loading Model"
   ]
  },
  {
   "cell_type": "code",
   "execution_count": 5,
   "metadata": {},
   "outputs": [],
   "source": [
    "module_url = \"https://tfhub.dev/google/universal-sentence-encoder/4\" \n",
    "model = hub.load(module_url)"
   ]
  },
  {
   "cell_type": "markdown",
   "metadata": {},
   "source": [
    "# Preparing Dataset"
   ]
  },
  {
   "cell_type": "code",
   "execution_count": 6,
   "metadata": {},
   "outputs": [],
   "source": [
    "dataset=pd.read_csv(\"arabic_data.csv\",on_bad_lines='skip')\n",
    "dataset.columns=[\"title\",\"contents\",\"category\",\"author_name\"]\n",
    "dataset=dataset[:5000]"
   ]
  },
  {
   "cell_type": "code",
   "execution_count": 7,
   "metadata": {},
   "outputs": [],
   "source": [
    "dataset.dropna(axis=0,inplace=True)\n",
    "# removing all special characters \n",
    "\n",
    "exp='[\\u0627-\\u064aA-Za-z]+' #re to get arabic and english , i had eliminated numbers and special characters because they dont have much influence \n",
    "dataset[\"contents\"]=dataset['contents'].apply(lambda data : \" \".join(re.findall(exp,data)))\n",
    "dataset[\"category\"]=dataset[\"category\"].apply(lambda data : \" \".join(re.findall(exp,data)))\n",
    "dataset[\"title\"]=dataset[\"title\"].apply(lambda data : \" \".join(re.findall(exp,data)))\n",
    "empty_str_contents=dataset.loc[dataset[\"contents\"]==r\"\"].index\n",
    "empty_str_title=dataset.loc[dataset[\"title\"]==r\"\"].index\n",
    "empty_str_category=dataset.loc[dataset[\"category\"]==\"\"].index\n",
    "dataset.drop(list(empty_str_contents),axis=0,inplace=True)"
   ]
  },
  {
   "cell_type": "code",
   "execution_count": 8,
   "metadata": {},
   "outputs": [],
   "source": [
    "def cleanText(text):\n",
    "    text = BeautifulSoup(text, \"lxml\").text\n",
    "    text = re.sub(r'\\|\\|\\|', r' ', text) \n",
    "    text = re.sub(r'http\\S+', r'<URL>', text)\n",
    "    # text = text.lower()\n",
    "    # text = text.replace('x', '')\n",
    "    return text\n",
    "\n",
    "dataset[\"title\"]=dataset[\"title\"].apply(cleanText)\n",
    "dataset[\"contents\"]=dataset[\"contents\"].apply(cleanText)\n",
    "dataset[\"category\"]=dataset[\"category\"].apply(cleanText)"
   ]
  },
  {
   "cell_type": "code",
   "execution_count": 9,
   "metadata": {},
   "outputs": [],
   "source": [
    "dataset=dataset[[\"title\",\"contents\",\"category\"]]\n",
    "dataset.reset_index(inplace=True)\n",
    "data=dataset[\"title\"]+dataset[\"contents\"]+dataset[\"category\"] \n",
    "data=data.to_list()"
   ]
  },
  {
   "cell_type": "code",
   "execution_count": 10,
   "metadata": {},
   "outputs": [
    {
     "data": {
      "text/plain": [
       "(2367,\n",
       " 'سمو نا ب ال مير وولي العهد يهن الملك تشارلز الثالثكونا بعث سمو نا ب ال مير وولي العهد الشيخ مشعل ال حمد ببرقية تهن ة لى صاحب الجلالة الملك تشارلز الثالث ملكalqabas')"
      ]
     },
     "execution_count": 10,
     "metadata": {},
     "output_type": "execute_result"
    }
   ],
   "source": [
    "len(data),data[0]"
   ]
  },
  {
   "cell_type": "markdown",
   "metadata": {},
   "source": [
    "# Experiment"
   ]
  },
  {
   "cell_type": "code",
   "execution_count": null,
   "metadata": {},
   "outputs": [],
   "source": [
    "module_url = \"https://tfhub.dev/google/universal-sentence-encoder/4\" # this is already a pretrained model ,so need of saving this model with our data\n",
    "model = hub.load(module_url)"
   ]
  },
  {
   "cell_type": "code",
   "execution_count": null,
   "metadata": {},
   "outputs": [],
   "source": [
    "embedding_gen = model(data) "
   ]
  },
  {
   "cell_type": "code",
   "execution_count": null,
   "metadata": {},
   "outputs": [],
   "source": [
    "similarity = cosine_similarity(embeddings)\n",
    "print(similarity)"
   ]
  },
  {
   "cell_type": "code",
   "execution_count": null,
   "metadata": {},
   "outputs": [],
   "source": [
    "embedding_gen.shape"
   ]
  },
  {
   "cell_type": "code",
   "execution_count": null,
   "metadata": {},
   "outputs": [],
   "source": [
    "embedding_gen[1] #vector of 1st record"
   ]
  },
  {
   "cell_type": "code",
   "execution_count": null,
   "metadata": {},
   "outputs": [],
   "source": [
    "#lets train the model with only one record and compare the results "
   ]
  },
  {
   "cell_type": "code",
   "execution_count": null,
   "metadata": {},
   "outputs": [],
   "source": [
    "temp_data=data[0]\n",
    "temp_embedding_gen = model([temp_data]) "
   ]
  },
  {
   "cell_type": "code",
   "execution_count": null,
   "metadata": {},
   "outputs": [],
   "source": [
    "temp_embedding_gen,embedding_gen[0] #same"
   ]
  },
  {
   "cell_type": "code",
   "execution_count": null,
   "metadata": {},
   "outputs": [],
   "source": [
    "#lets create a new model and check the results\n",
    "module_url = \"https://tfhub.dev/google/universal-sentence-encoder/4\" \n",
    "model1 = hub.load(module_url)\n",
    "temp_data1=data[0]\n",
    "temp_embedding_gen1 = model1([temp_data1]) "
   ]
  },
  {
   "cell_type": "code",
   "execution_count": null,
   "metadata": {},
   "outputs": [],
   "source": [
    "temp_embedding_gen1,embedding_gen[0]"
   ]
  },
  {
   "cell_type": "markdown",
   "metadata": {},
   "source": [
    "# Observation :<br>\n",
    "\"https://tfhub.dev/google/universal-sentence-encoder/4\" # this is already a pretrained model ,so no need of saving this model with our data"
   ]
  },
  {
   "cell_type": "markdown",
   "metadata": {},
   "source": [
    "# Vectorizing "
   ]
  },
  {
   "cell_type": "code",
   "execution_count": 11,
   "metadata": {},
   "outputs": [],
   "source": [
    "module_url = \"https://tfhub.dev/google/universal-sentence-encoder/4\" # this is already a pretrained model ,so need of saving this model with our data\n",
    "model = hub.load(module_url)"
   ]
  },
  {
   "cell_type": "code",
   "execution_count": 12,
   "metadata": {},
   "outputs": [],
   "source": [
    "embedding_gen = model(data) "
   ]
  },
  {
   "cell_type": "code",
   "execution_count": 13,
   "metadata": {},
   "outputs": [
    {
     "data": {
      "text/plain": [
       "TensorShape([2367, 512])"
      ]
     },
     "execution_count": 13,
     "metadata": {},
     "output_type": "execute_result"
    }
   ],
   "source": [
    "embedding_gen.shape"
   ]
  },
  {
   "cell_type": "markdown",
   "metadata": {},
   "source": [
    "# Dimensionality Reduction"
   ]
  },
  {
   "cell_type": "markdown",
   "metadata": {},
   "source": [
    "As seen above, all of our sentence embeddings have high dimensionality (>500 features each). A manifestation of the Curse of Dimensionality is that distance measures, such as Euclidean and Manhattan, needed for clustering become meaningless at such high dimensions (see for example “On the Surprising Behavior of Distance Metrics in High Dimensional Space” by Aggarwal et al for more details)"
   ]
  },
  {
   "cell_type": "markdown",
   "metadata": {},
   "source": [
    "### UMAP dimensionality reduction"
   ]
  },
  {
   "cell_type": "code",
   "execution_count": 14,
   "metadata": {},
   "outputs": [],
   "source": [
    "umap_embeddings = (umap.UMAP(n_neighbors=10, n_components=20, metric='cosine', \n",
    "                                random_state=24).fit_transform(embedding_gen))"
   ]
  },
  {
   "cell_type": "markdown",
   "metadata": {},
   "source": [
    "As like PCA we can't find the information retained during the process using explained varience ratio  <br>\n",
    "Reference : https://github.com/lmcinnes/umap/issues/122"
   ]
  },
  {
   "cell_type": "code",
   "execution_count": 74,
   "metadata": {},
   "outputs": [
    {
     "name": "stdout",
     "output_type": "stream",
     "text": [
      "<class 'numpy.ndarray'> \n",
      " (2367, 20) \n",
      " [[11.292786   4.4930706  6.284277  ...  4.6231523  4.4380713  4.905008 ]\n",
      " [11.331208   4.464798   6.295542  ...  4.6286917  4.419781   4.9183946]\n",
      " [11.35377    4.791566   4.87545   ...  5.359246   4.343744   4.793375 ]\n",
      " ...\n",
      " [ 7.9496636  7.9307013  1.9738984 ...  4.157019   4.433381   4.7930026]\n",
      " [ 3.1296065  9.762955   1.9660954 ...  3.2671206  4.51049    5.3855543]\n",
      " [10.941582   5.141905   4.8392134 ...  5.106749   4.424042   4.838405 ]]\n"
     ]
    }
   ],
   "source": [
    "print(type(umap_embeddings),'\\n',umap_embeddings.shape,'\\n',umap_embeddings)"
   ]
  },
  {
   "cell_type": "markdown",
   "metadata": {},
   "source": [
    "# DBScan Clustering\n",
    "\n"
   ]
  },
  {
   "cell_type": "markdown",
   "metadata": {},
   "source": [
    "### parameters for tuning:<br>\n",
    " * epslon and min samples\n",
    "### problems :<br>\n",
    " * how to take points in a particular cluster\n",
    " * how to find most closest point to our input data point"
   ]
  },
  {
   "cell_type": "code",
   "execution_count": 137,
   "metadata": {},
   "outputs": [],
   "source": [
    "\n",
    "model=DBSCAN(eps=0.02,min_samples=3)"
   ]
  },
  {
   "cell_type": "code",
   "execution_count": 138,
   "metadata": {},
   "outputs": [
    {
     "data": {
      "text/plain": [
       "DBSCAN(eps=0.02, min_samples=3)"
      ]
     },
     "execution_count": 138,
     "metadata": {},
     "output_type": "execute_result"
    }
   ],
   "source": [
    "model.fit(np.array(embedding_gen))"
   ]
  },
  {
   "cell_type": "code",
   "execution_count": 141,
   "metadata": {},
   "outputs": [
    {
     "name": "stdout",
     "output_type": "stream",
     "text": [
      "<class 'numpy.ndarray'> [-1] 2367\n",
      "-1 appeared 2367 times\n"
     ]
    }
   ],
   "source": [
    "print(type(model.labels_),np.unique(model.labels_),len(model.labels_))\n",
    "for i in np.unique(model.labels_):\n",
    "    # print(i)\n",
    "    print(i,\"appeared\",np.count_nonzero(model.labels_ == i),\"times\")"
   ]
  },
  {
   "cell_type": "code",
   "execution_count": 140,
   "metadata": {},
   "outputs": [
    {
     "name": "stdout",
     "output_type": "stream",
     "text": [
      "-1 appeared 2367 times\n"
     ]
    }
   ],
   "source": [
    "for i in np.unique(model.labels_):\n",
    "    # print(i)\n",
    "    print(i,\"appeared\",np.count_nonzero(model.labels_ == i),\"times\")"
   ]
  },
  {
   "cell_type": "markdown",
   "metadata": {},
   "source": [
    "# K means Clustering"
   ]
  },
  {
   "cell_type": "code",
   "execution_count": 163,
   "metadata": {},
   "outputs": [
    {
     "ename": "KeyboardInterrupt",
     "evalue": "",
     "output_type": "error",
     "traceback": [
      "\u001b[1;31m---------------------------------------------------------------------------\u001b[0m",
      "\u001b[1;31mKeyboardInterrupt\u001b[0m                         Traceback (most recent call last)",
      "\u001b[1;32mc:\\Users\\rbw19\\OneDrive\\Desktop\\recommendation_engine\\universal_sentence_encoder.ipynb Cell 37\u001b[0m in \u001b[0;36m<cell line: 4>\u001b[1;34m()\u001b[0m\n\u001b[0;32m      <a href='vscode-notebook-cell:/c%3A/Users/rbw19/OneDrive/Desktop/recommendation_engine/universal_sentence_encoder.ipynb#Y101sZmlsZQ%3D%3D?line=3'>4</a>\u001b[0m \u001b[39mfor\u001b[39;00m cluster \u001b[39min\u001b[39;00m \u001b[39mrange\u001b[39m(\u001b[39m3\u001b[39m,clusters,\u001b[39m5\u001b[39m):\n\u001b[0;32m      <a href='vscode-notebook-cell:/c%3A/Users/rbw19/OneDrive/Desktop/recommendation_engine/universal_sentence_encoder.ipynb#Y101sZmlsZQ%3D%3D?line=4'>5</a>\u001b[0m     model\u001b[39m=\u001b[39mKMeans(cluster)\n\u001b[1;32m----> <a href='vscode-notebook-cell:/c%3A/Users/rbw19/OneDrive/Desktop/recommendation_engine/universal_sentence_encoder.ipynb#Y101sZmlsZQ%3D%3D?line=5'>6</a>\u001b[0m     model\u001b[39m.\u001b[39;49mfit(np\u001b[39m.\u001b[39;49marray(embedding_gen))\n\u001b[0;32m      <a href='vscode-notebook-cell:/c%3A/Users/rbw19/OneDrive/Desktop/recommendation_engine/universal_sentence_encoder.ipynb#Y101sZmlsZQ%3D%3D?line=6'>7</a>\u001b[0m     interia\u001b[39m.\u001b[39mappend(model\u001b[39m.\u001b[39minertia_)\n",
      "File \u001b[1;32mc:\\anaconda\\envs\\machine_learning\\lib\\site-packages\\sklearn\\cluster\\_kmeans.py:1016\u001b[0m, in \u001b[0;36mKMeans.fit\u001b[1;34m(self, X, y, sample_weight)\u001b[0m\n\u001b[0;32m   1012\u001b[0m best_inertia \u001b[39m=\u001b[39m \u001b[39mNone\u001b[39;00m\n\u001b[0;32m   1014\u001b[0m \u001b[39mfor\u001b[39;00m i \u001b[39min\u001b[39;00m \u001b[39mrange\u001b[39m(\u001b[39mself\u001b[39m\u001b[39m.\u001b[39m_n_init):\n\u001b[0;32m   1015\u001b[0m     \u001b[39m# Initialize centers\u001b[39;00m\n\u001b[1;32m-> 1016\u001b[0m     centers_init \u001b[39m=\u001b[39m \u001b[39mself\u001b[39;49m\u001b[39m.\u001b[39;49m_init_centroids(\n\u001b[0;32m   1017\u001b[0m         X, x_squared_norms\u001b[39m=\u001b[39;49mx_squared_norms, init\u001b[39m=\u001b[39;49minit,\n\u001b[0;32m   1018\u001b[0m         random_state\u001b[39m=\u001b[39;49mrandom_state)\n\u001b[0;32m   1019\u001b[0m     \u001b[39mif\u001b[39;00m \u001b[39mself\u001b[39m\u001b[39m.\u001b[39mverbose:\n\u001b[0;32m   1020\u001b[0m         \u001b[39mprint\u001b[39m(\u001b[39m\"\u001b[39m\u001b[39mInitialization complete\u001b[39m\u001b[39m\"\u001b[39m)\n",
      "File \u001b[1;32mc:\\anaconda\\envs\\machine_learning\\lib\\site-packages\\sklearn\\cluster\\_kmeans.py:934\u001b[0m, in \u001b[0;36mKMeans._init_centroids\u001b[1;34m(self, X, x_squared_norms, init, random_state, init_size)\u001b[0m\n\u001b[0;32m    931\u001b[0m     n_samples \u001b[39m=\u001b[39m X\u001b[39m.\u001b[39mshape[\u001b[39m0\u001b[39m]\n\u001b[0;32m    933\u001b[0m \u001b[39mif\u001b[39;00m \u001b[39misinstance\u001b[39m(init, \u001b[39mstr\u001b[39m) \u001b[39mand\u001b[39;00m init \u001b[39m==\u001b[39m \u001b[39m'\u001b[39m\u001b[39mk-means++\u001b[39m\u001b[39m'\u001b[39m:\n\u001b[1;32m--> 934\u001b[0m     centers, _ \u001b[39m=\u001b[39m _kmeans_plusplus(X, n_clusters,\n\u001b[0;32m    935\u001b[0m                                   random_state\u001b[39m=\u001b[39;49mrandom_state,\n\u001b[0;32m    936\u001b[0m                                   x_squared_norms\u001b[39m=\u001b[39;49mx_squared_norms)\n\u001b[0;32m    937\u001b[0m \u001b[39melif\u001b[39;00m \u001b[39misinstance\u001b[39m(init, \u001b[39mstr\u001b[39m) \u001b[39mand\u001b[39;00m init \u001b[39m==\u001b[39m \u001b[39m'\u001b[39m\u001b[39mrandom\u001b[39m\u001b[39m'\u001b[39m:\n\u001b[0;32m    938\u001b[0m     seeds \u001b[39m=\u001b[39m random_state\u001b[39m.\u001b[39mpermutation(n_samples)[:n_clusters]\n",
      "File \u001b[1;32mc:\\anaconda\\envs\\machine_learning\\lib\\site-packages\\sklearn\\cluster\\_kmeans.py:123\u001b[0m, in \u001b[0;36m_kmeans_plusplus\u001b[1;34m(X, n_clusters, x_squared_norms, random_state, n_local_trials)\u001b[0m\n\u001b[0;32m    119\u001b[0m np\u001b[39m.\u001b[39mclip(candidate_ids, \u001b[39mNone\u001b[39;00m, closest_dist_sq\u001b[39m.\u001b[39msize \u001b[39m-\u001b[39m \u001b[39m1\u001b[39m,\n\u001b[0;32m    120\u001b[0m         out\u001b[39m=\u001b[39mcandidate_ids)\n\u001b[0;32m    122\u001b[0m \u001b[39m# Compute distances to center candidates\u001b[39;00m\n\u001b[1;32m--> 123\u001b[0m distance_to_candidates \u001b[39m=\u001b[39m euclidean_distances(\n\u001b[0;32m    124\u001b[0m     X[candidate_ids], X, Y_norm_squared\u001b[39m=\u001b[39;49mx_squared_norms, squared\u001b[39m=\u001b[39;49m\u001b[39mTrue\u001b[39;49;00m)\n\u001b[0;32m    126\u001b[0m \u001b[39m# update closest distances squared and potential for each candidate\u001b[39;00m\n\u001b[0;32m    127\u001b[0m np\u001b[39m.\u001b[39mminimum(closest_dist_sq, distance_to_candidates,\n\u001b[0;32m    128\u001b[0m            out\u001b[39m=\u001b[39mdistance_to_candidates)\n",
      "File \u001b[1;32mc:\\anaconda\\envs\\machine_learning\\lib\\site-packages\\sklearn\\utils\\validation.py:63\u001b[0m, in \u001b[0;36m_deprecate_positional_args.<locals>._inner_deprecate_positional_args.<locals>.inner_f\u001b[1;34m(*args, **kwargs)\u001b[0m\n\u001b[0;32m     61\u001b[0m extra_args \u001b[39m=\u001b[39m \u001b[39mlen\u001b[39m(args) \u001b[39m-\u001b[39m \u001b[39mlen\u001b[39m(all_args)\n\u001b[0;32m     62\u001b[0m \u001b[39mif\u001b[39;00m extra_args \u001b[39m<\u001b[39m\u001b[39m=\u001b[39m \u001b[39m0\u001b[39m:\n\u001b[1;32m---> 63\u001b[0m     \u001b[39mreturn\u001b[39;00m f(\u001b[39m*\u001b[39;49margs, \u001b[39m*\u001b[39;49m\u001b[39m*\u001b[39;49mkwargs)\n\u001b[0;32m     65\u001b[0m \u001b[39m# extra_args > 0\u001b[39;00m\n\u001b[0;32m     66\u001b[0m args_msg \u001b[39m=\u001b[39m [\u001b[39m'\u001b[39m\u001b[39m{}\u001b[39;00m\u001b[39m=\u001b[39m\u001b[39m{}\u001b[39;00m\u001b[39m'\u001b[39m\u001b[39m.\u001b[39mformat(name, arg)\n\u001b[0;32m     67\u001b[0m             \u001b[39mfor\u001b[39;00m name, arg \u001b[39min\u001b[39;00m \u001b[39mzip\u001b[39m(kwonly_args[:extra_args],\n\u001b[0;32m     68\u001b[0m                                  args[\u001b[39m-\u001b[39mextra_args:])]\n",
      "File \u001b[1;32mc:\\anaconda\\envs\\machine_learning\\lib\\site-packages\\sklearn\\metrics\\pairwise.py:272\u001b[0m, in \u001b[0;36meuclidean_distances\u001b[1;34m(X, Y, Y_norm_squared, squared, X_norm_squared)\u001b[0m\n\u001b[0;32m    202\u001b[0m \u001b[39m@_deprecate_positional_args\u001b[39m\n\u001b[0;32m    203\u001b[0m \u001b[39mdef\u001b[39;00m \u001b[39meuclidean_distances\u001b[39m(X, Y\u001b[39m=\u001b[39m\u001b[39mNone\u001b[39;00m, \u001b[39m*\u001b[39m, Y_norm_squared\u001b[39m=\u001b[39m\u001b[39mNone\u001b[39;00m, squared\u001b[39m=\u001b[39m\u001b[39mFalse\u001b[39;00m,\n\u001b[0;32m    204\u001b[0m                         X_norm_squared\u001b[39m=\u001b[39m\u001b[39mNone\u001b[39;00m):\n\u001b[0;32m    205\u001b[0m     \u001b[39m\"\"\"\u001b[39;00m\n\u001b[0;32m    206\u001b[0m \u001b[39m    Considering the rows of X (and Y=X) as vectors, compute the\u001b[39;00m\n\u001b[0;32m    207\u001b[0m \u001b[39m    distance matrix between each pair of vectors.\u001b[39;00m\n\u001b[1;32m   (...)\u001b[0m\n\u001b[0;32m    270\u001b[0m \u001b[39m           [1.41421356]])\u001b[39;00m\n\u001b[0;32m    271\u001b[0m \u001b[39m    \"\"\"\u001b[39;00m\n\u001b[1;32m--> 272\u001b[0m     X, Y \u001b[39m=\u001b[39m check_pairwise_arrays(X, Y)\n\u001b[0;32m    274\u001b[0m     \u001b[39m# If norms are passed as float32, they are unused. If arrays are passed as\u001b[39;00m\n\u001b[0;32m    275\u001b[0m     \u001b[39m# float32, norms needs to be recomputed on upcast chunks.\u001b[39;00m\n\u001b[0;32m    276\u001b[0m     \u001b[39m# TODO: use a float64 accumulator in row_norms to avoid the latter.\u001b[39;00m\n\u001b[0;32m    277\u001b[0m     \u001b[39mif\u001b[39;00m X_norm_squared \u001b[39mis\u001b[39;00m \u001b[39mnot\u001b[39;00m \u001b[39mNone\u001b[39;00m:\n",
      "File \u001b[1;32mc:\\anaconda\\envs\\machine_learning\\lib\\site-packages\\sklearn\\utils\\validation.py:63\u001b[0m, in \u001b[0;36m_deprecate_positional_args.<locals>._inner_deprecate_positional_args.<locals>.inner_f\u001b[1;34m(*args, **kwargs)\u001b[0m\n\u001b[0;32m     61\u001b[0m extra_args \u001b[39m=\u001b[39m \u001b[39mlen\u001b[39m(args) \u001b[39m-\u001b[39m \u001b[39mlen\u001b[39m(all_args)\n\u001b[0;32m     62\u001b[0m \u001b[39mif\u001b[39;00m extra_args \u001b[39m<\u001b[39m\u001b[39m=\u001b[39m \u001b[39m0\u001b[39m:\n\u001b[1;32m---> 63\u001b[0m     \u001b[39mreturn\u001b[39;00m f(\u001b[39m*\u001b[39;49margs, \u001b[39m*\u001b[39;49m\u001b[39m*\u001b[39;49mkwargs)\n\u001b[0;32m     65\u001b[0m \u001b[39m# extra_args > 0\u001b[39;00m\n\u001b[0;32m     66\u001b[0m args_msg \u001b[39m=\u001b[39m [\u001b[39m'\u001b[39m\u001b[39m{}\u001b[39;00m\u001b[39m=\u001b[39m\u001b[39m{}\u001b[39;00m\u001b[39m'\u001b[39m\u001b[39m.\u001b[39mformat(name, arg)\n\u001b[0;32m     67\u001b[0m             \u001b[39mfor\u001b[39;00m name, arg \u001b[39min\u001b[39;00m \u001b[39mzip\u001b[39m(kwonly_args[:extra_args],\n\u001b[0;32m     68\u001b[0m                                  args[\u001b[39m-\u001b[39mextra_args:])]\n",
      "File \u001b[1;32mc:\\anaconda\\envs\\machine_learning\\lib\\site-packages\\sklearn\\metrics\\pairwise.py:149\u001b[0m, in \u001b[0;36mcheck_pairwise_arrays\u001b[1;34m(X, Y, precomputed, dtype, accept_sparse, force_all_finite, copy)\u001b[0m\n\u001b[0;32m    145\u001b[0m \u001b[39melse\u001b[39;00m:\n\u001b[0;32m    146\u001b[0m     X \u001b[39m=\u001b[39m check_array(X, accept_sparse\u001b[39m=\u001b[39maccept_sparse, dtype\u001b[39m=\u001b[39mdtype,\n\u001b[0;32m    147\u001b[0m                     copy\u001b[39m=\u001b[39mcopy, force_all_finite\u001b[39m=\u001b[39mforce_all_finite,\n\u001b[0;32m    148\u001b[0m                     estimator\u001b[39m=\u001b[39mestimator)\n\u001b[1;32m--> 149\u001b[0m     Y \u001b[39m=\u001b[39m check_array(Y, accept_sparse\u001b[39m=\u001b[39;49maccept_sparse, dtype\u001b[39m=\u001b[39;49mdtype,\n\u001b[0;32m    150\u001b[0m                     copy\u001b[39m=\u001b[39;49mcopy, force_all_finite\u001b[39m=\u001b[39;49mforce_all_finite,\n\u001b[0;32m    151\u001b[0m                     estimator\u001b[39m=\u001b[39;49mestimator)\n\u001b[0;32m    153\u001b[0m \u001b[39mif\u001b[39;00m precomputed:\n\u001b[0;32m    154\u001b[0m     \u001b[39mif\u001b[39;00m X\u001b[39m.\u001b[39mshape[\u001b[39m1\u001b[39m] \u001b[39m!=\u001b[39m Y\u001b[39m.\u001b[39mshape[\u001b[39m0\u001b[39m]:\n",
      "File \u001b[1;32mc:\\anaconda\\envs\\machine_learning\\lib\\site-packages\\sklearn\\utils\\validation.py:63\u001b[0m, in \u001b[0;36m_deprecate_positional_args.<locals>._inner_deprecate_positional_args.<locals>.inner_f\u001b[1;34m(*args, **kwargs)\u001b[0m\n\u001b[0;32m     61\u001b[0m extra_args \u001b[39m=\u001b[39m \u001b[39mlen\u001b[39m(args) \u001b[39m-\u001b[39m \u001b[39mlen\u001b[39m(all_args)\n\u001b[0;32m     62\u001b[0m \u001b[39mif\u001b[39;00m extra_args \u001b[39m<\u001b[39m\u001b[39m=\u001b[39m \u001b[39m0\u001b[39m:\n\u001b[1;32m---> 63\u001b[0m     \u001b[39mreturn\u001b[39;00m f(\u001b[39m*\u001b[39;49margs, \u001b[39m*\u001b[39;49m\u001b[39m*\u001b[39;49mkwargs)\n\u001b[0;32m     65\u001b[0m \u001b[39m# extra_args > 0\u001b[39;00m\n\u001b[0;32m     66\u001b[0m args_msg \u001b[39m=\u001b[39m [\u001b[39m'\u001b[39m\u001b[39m{}\u001b[39;00m\u001b[39m=\u001b[39m\u001b[39m{}\u001b[39;00m\u001b[39m'\u001b[39m\u001b[39m.\u001b[39mformat(name, arg)\n\u001b[0;32m     67\u001b[0m             \u001b[39mfor\u001b[39;00m name, arg \u001b[39min\u001b[39;00m \u001b[39mzip\u001b[39m(kwonly_args[:extra_args],\n\u001b[0;32m     68\u001b[0m                                  args[\u001b[39m-\u001b[39mextra_args:])]\n",
      "File \u001b[1;32mc:\\anaconda\\envs\\machine_learning\\lib\\site-packages\\sklearn\\utils\\validation.py:720\u001b[0m, in \u001b[0;36mcheck_array\u001b[1;34m(array, accept_sparse, accept_large_sparse, dtype, order, copy, force_all_finite, ensure_2d, allow_nd, ensure_min_samples, ensure_min_features, estimator)\u001b[0m\n\u001b[0;32m    716\u001b[0m         \u001b[39mraise\u001b[39;00m \u001b[39mValueError\u001b[39;00m(\u001b[39m\"\u001b[39m\u001b[39mFound array with dim \u001b[39m\u001b[39m%d\u001b[39;00m\u001b[39m. \u001b[39m\u001b[39m%s\u001b[39;00m\u001b[39m expected <= 2.\u001b[39m\u001b[39m\"\u001b[39m\n\u001b[0;32m    717\u001b[0m                          \u001b[39m%\u001b[39m (array\u001b[39m.\u001b[39mndim, estimator_name))\n\u001b[0;32m    719\u001b[0m     \u001b[39mif\u001b[39;00m force_all_finite:\n\u001b[1;32m--> 720\u001b[0m         _assert_all_finite(array,\n\u001b[0;32m    721\u001b[0m                            allow_nan\u001b[39m=\u001b[39;49mforce_all_finite \u001b[39m==\u001b[39;49m \u001b[39m'\u001b[39;49m\u001b[39mallow-nan\u001b[39;49m\u001b[39m'\u001b[39;49m)\n\u001b[0;32m    723\u001b[0m \u001b[39mif\u001b[39;00m ensure_min_samples \u001b[39m>\u001b[39m \u001b[39m0\u001b[39m:\n\u001b[0;32m    724\u001b[0m     n_samples \u001b[39m=\u001b[39m _num_samples(array)\n",
      "File \u001b[1;32mc:\\anaconda\\envs\\machine_learning\\lib\\site-packages\\sklearn\\utils\\validation.py:96\u001b[0m, in \u001b[0;36m_assert_all_finite\u001b[1;34m(X, allow_nan, msg_dtype)\u001b[0m\n\u001b[0;32m     91\u001b[0m \u001b[39m# First try an O(n) time, O(1) space solution for the common case that\u001b[39;00m\n\u001b[0;32m     92\u001b[0m \u001b[39m# everything is finite; fall back to O(n) space np.isfinite to prevent\u001b[39;00m\n\u001b[0;32m     93\u001b[0m \u001b[39m# false positives from overflow in sum method. The sum is also calculated\u001b[39;00m\n\u001b[0;32m     94\u001b[0m \u001b[39m# safely to reduce dtype induced overflows.\u001b[39;00m\n\u001b[0;32m     95\u001b[0m is_float \u001b[39m=\u001b[39m X\u001b[39m.\u001b[39mdtype\u001b[39m.\u001b[39mkind \u001b[39min\u001b[39;00m \u001b[39m'\u001b[39m\u001b[39mfc\u001b[39m\u001b[39m'\u001b[39m\n\u001b[1;32m---> 96\u001b[0m \u001b[39mif\u001b[39;00m is_float \u001b[39mand\u001b[39;00m (np\u001b[39m.\u001b[39misfinite(_safe_accumulator_op(np\u001b[39m.\u001b[39;49msum, X))):\n\u001b[0;32m     97\u001b[0m     \u001b[39mpass\u001b[39;00m\n\u001b[0;32m     98\u001b[0m \u001b[39melif\u001b[39;00m is_float:\n",
      "File \u001b[1;32mc:\\anaconda\\envs\\machine_learning\\lib\\site-packages\\sklearn\\utils\\extmath.py:687\u001b[0m, in \u001b[0;36m_safe_accumulator_op\u001b[1;34m(op, x, *args, **kwargs)\u001b[0m\n\u001b[0;32m    664\u001b[0m \u001b[39m\"\"\"\u001b[39;00m\n\u001b[0;32m    665\u001b[0m \u001b[39mThis function provides numpy accumulator functions with a float64 dtype\u001b[39;00m\n\u001b[0;32m    666\u001b[0m \u001b[39mwhen used on a floating point input. This prevents accumulator overflow on\u001b[39;00m\n\u001b[1;32m   (...)\u001b[0m\n\u001b[0;32m    684\u001b[0m \u001b[39m    The output of the accumulator function passed to this function.\u001b[39;00m\n\u001b[0;32m    685\u001b[0m \u001b[39m\"\"\"\u001b[39;00m\n\u001b[0;32m    686\u001b[0m \u001b[39mif\u001b[39;00m np\u001b[39m.\u001b[39missubdtype(x\u001b[39m.\u001b[39mdtype, np\u001b[39m.\u001b[39mfloating) \u001b[39mand\u001b[39;00m x\u001b[39m.\u001b[39mdtype\u001b[39m.\u001b[39mitemsize \u001b[39m<\u001b[39m \u001b[39m8\u001b[39m:\n\u001b[1;32m--> 687\u001b[0m     result \u001b[39m=\u001b[39m op(x, \u001b[39m*\u001b[39;49margs, \u001b[39m*\u001b[39;49m\u001b[39m*\u001b[39;49mkwargs, dtype\u001b[39m=\u001b[39;49mnp\u001b[39m.\u001b[39;49mfloat64)\n\u001b[0;32m    688\u001b[0m \u001b[39melse\u001b[39;00m:\n\u001b[0;32m    689\u001b[0m     result \u001b[39m=\u001b[39m op(x, \u001b[39m*\u001b[39margs, \u001b[39m*\u001b[39m\u001b[39m*\u001b[39mkwargs)\n",
      "File \u001b[1;32m<__array_function__ internals>:180\u001b[0m, in \u001b[0;36msum\u001b[1;34m(*args, **kwargs)\u001b[0m\n",
      "File \u001b[1;32mc:\\anaconda\\envs\\machine_learning\\lib\\site-packages\\numpy\\core\\fromnumeric.py:2296\u001b[0m, in \u001b[0;36msum\u001b[1;34m(a, axis, dtype, out, keepdims, initial, where)\u001b[0m\n\u001b[0;32m   2293\u001b[0m         \u001b[39mreturn\u001b[39;00m out\n\u001b[0;32m   2294\u001b[0m     \u001b[39mreturn\u001b[39;00m res\n\u001b[1;32m-> 2296\u001b[0m \u001b[39mreturn\u001b[39;00m _wrapreduction(a, np\u001b[39m.\u001b[39;49madd, \u001b[39m'\u001b[39;49m\u001b[39msum\u001b[39;49m\u001b[39m'\u001b[39;49m, axis, dtype, out, keepdims\u001b[39m=\u001b[39;49mkeepdims,\n\u001b[0;32m   2297\u001b[0m                       initial\u001b[39m=\u001b[39;49minitial, where\u001b[39m=\u001b[39;49mwhere)\n",
      "File \u001b[1;32mc:\\anaconda\\envs\\machine_learning\\lib\\site-packages\\numpy\\core\\fromnumeric.py:86\u001b[0m, in \u001b[0;36m_wrapreduction\u001b[1;34m(obj, ufunc, method, axis, dtype, out, **kwargs)\u001b[0m\n\u001b[0;32m     83\u001b[0m         \u001b[39melse\u001b[39;00m:\n\u001b[0;32m     84\u001b[0m             \u001b[39mreturn\u001b[39;00m reduction(axis\u001b[39m=\u001b[39maxis, out\u001b[39m=\u001b[39mout, \u001b[39m*\u001b[39m\u001b[39m*\u001b[39mpasskwargs)\n\u001b[1;32m---> 86\u001b[0m \u001b[39mreturn\u001b[39;00m ufunc\u001b[39m.\u001b[39;49mreduce(obj, axis, dtype, out, \u001b[39m*\u001b[39;49m\u001b[39m*\u001b[39;49mpasskwargs)\n",
      "\u001b[1;31mKeyboardInterrupt\u001b[0m: "
     ]
    }
   ],
   "source": [
    "# from cv2 imp/ort kmeans\n",
    "interia=[]  #SSE -->sum of squared distance \n",
    "clusters=500\n",
    "for cluster in range(3,clusters,5):\n",
    "    model=KMeans(cluster)\n",
    "    model.fit(np.array(embedding_gen))\n",
    "    interia.append(model.inertia_)\n"
   ]
  },
  {
   "cell_type": "code",
   "execution_count": 162,
   "metadata": {},
   "outputs": [
    {
     "data": {
      "text/plain": [
       "Text(0, 0.5, 'interia')"
      ]
     },
     "execution_count": 162,
     "metadata": {},
     "output_type": "execute_result"
    },
    {
     "data": {
      "image/png": "[encoded data removed]",
      "text/plain": [
       "<Figure size 600x600 with 1 Axes>"
      ]
     },
     "metadata": {},
     "output_type": "display_data"
    }
   ],
   "source": [
    "# plot to identify the elbow\n",
    "plt.figure(figsize=(6, 6))\n",
    "plt.plot(range(3,500,5), interia, '-o', c = 'maroon')\n",
    "plt.xlabel('No of clusters')\n",
    "plt.ylabel('interia')"
   ]
  },
  {
   "cell_type": "code",
   "execution_count": 150,
   "metadata": {},
   "outputs": [
    {
     "data": {
      "text/plain": [
       "-0.036822043"
      ]
     },
     "execution_count": 150,
     "metadata": {},
     "output_type": "execute_result"
    }
   ],
   "source": [
    "np.array(embedding_gen)[1][1]"
   ]
  },
  {
   "cell_type": "markdown",
   "metadata": {},
   "source": [
    "# HDBscan"
   ]
  },
  {
   "cell_type": "markdown",
   "metadata": {},
   "source": [
    " it is preferable to use an algorithm that does not require specifying the number of clusters upfront and can also tolerate noisy data. Density-based algorithms are a good option here as they do not require specifying the number of clusters and are indifferent to cluster shape. Hierarchical Density-Based Spatial Clustering of Applications with Noise (HDBSCAN) has become popular since it has fewer and more intuitive hyperparameters than DBSCAN and is robust to variable-density clusters."
   ]
  },
  {
   "cell_type": "code",
   "execution_count": 15,
   "metadata": {},
   "outputs": [
    {
     "name": "stdout",
     "output_type": "stream",
     "text": [
      "[101 101  -1 ...  91  10  -1] 2367\n",
      "[ -1   0   1   2   3   4   5   6   7   8   9  10  11  12  13  14  15  16\n",
      "  17  18  19  20  21  22  23  24  25  26  27  28  29  30  31  32  33  34\n",
      "  35  36  37  38  39  40  41  42  43  44  45  46  47  48  49  50  51  52\n",
      "  53  54  55  56  57  58  59  60  61  62  63  64  65  66  67  68  69  70\n",
      "  71  72  73  74  75  76  77  78  79  80  81  82  83  84  85  86  87  88\n",
      "  89  90  91  92  93  94  95  96  97  98  99 100 101 102 103 104 105 106\n",
      " 107 108 109 110 111 112 113 114 115 116 117 118 119 120 121 122 123 124\n",
      " 125 126 127 128 129 130 131 132 133 134 135 136 137 138 139 140 141 142\n",
      " 143 144 145 146 147 148 149 150 151 152 153 154] \n",
      " 156\n"
     ]
    }
   ],
   "source": [
    "clusters = hdbscan.HDBSCAN(min_cluster_size = 3,\n",
    "                               metric='euclidean', \n",
    "                               cluster_selection_method='eom').fit(umap_embeddings)\n",
    "# hdbscan.HDBSCAN(algorithm='best', alpha=1.0, approx_min_span_tree=True,\n",
    "#                 gen_min_span_tree=False, leaf_size=40,metric='euclidean',\n",
    "#                 min_cluster_size=5, min_samples=None, p=None)\n",
    "print(clusters.labels_,len(clusters.labels_))\n",
    "print(np.unique(clusters.labels_),'\\n',len(np.unique(clusters.labels_)))"
   ]
  },
  {
   "cell_type": "code",
   "execution_count": 16,
   "metadata": {},
   "outputs": [],
   "source": [
    "cluster=[]\n",
    "for idx in range(len(clusters.labels_)):\n",
    "    if clusters.labels_[idx]==10: #taking dataponits of 10th cluster\n",
    "        cluster.append(idx)"
   ]
  },
  {
   "cell_type": "code",
   "execution_count": 18,
   "metadata": {},
   "outputs": [
    {
     "data": {
      "text/plain": [
       "['France awards Sheikha Intisar Al-Sabah, the Legion of Honor, with the rank of Knight',\n",
       " 'Kulthum Hussein Awad wins the presidency of the Arab Union for specialized women',\n",
       " 'Kulthum Awad wins the presidency of the Arab Union for the specialized women',\n",
       " 'The progressive movement rejects a map of restructuring the public sector, which is biased against the popular classes in favor of the big capitalists',\n",
       " 'Kuwait is the world leader in terms of order and safety in schools',\n",
       " 'The university president issues a decision to amend the distance education regulation',\n",
       " 'The Lawyers’ Association The exclusion of nationality workers from the jurisdiction of the judiciary requires urgent legislative intervention The Kuwaiti Lawyers’ Association issued a statement on the Court of Cassation’s ruling regarding the court’s lack of jurisdiction in matters of nationality and that it is sovereign, and the text of the statement reads as follows',\n",
       " 'The Martyr’s Office launches a competition to design a model that symbolizes national unity and the immortalization of the martyrs',\n",
       " 'Teachers: The necessity of integrated education supported by the blended education to ensure quality and continuity',\n",
       " 'The integrity of Kuwait’s efforts against corruption resulted in the establishment of a strong system to prevent and combat it',\n",
       " 'Al-Nasser for the Non-Aligned Movement: Doing what is necessary to strengthen the role of the movement and transfer it from a dreamer to a behavior. The Minister of Foreign Affairs, Minister of State for Cabinet Affairs Sheikh Dr. Hamad Al-Nasser, the necessity of doing what is necessary to strengthen the role of the Non-Aligned Movement',\n",
       " 'The Kuwaiti Heart Society has four decades of purposeful awareness The Kuwait Heart Society is a major supporter of the health sector in the country. It is concerned with promoting heart health and has been working for a year through community initiatives aimed at reducing the death rate with',\n",
       " 'KIMS celebrated the renewal of obtaining institutional recognition from the Canadian Royal College of Surgeons',\n",
       " 'The Ministry of the Interior has prepared a comprehensive plan to secure Ashura. Al-Rai Al-Harir News. The Ministry of Interior is putting the final touches on its plan for the month of Muharram and securing Husseiniya councils through a field deployment accompanied by a round-the-clock operations room that includes various',\n",
       " 'Kuwait affirms that the solution to the crisis in Syria must be political. The State of Kuwait has reaffirmed that there is no military solution to the crisis in Syria. Rather, the solution must be political through a settlement agreed upon by all components of the Syrian people and achieved',\n",
       " 'Housing care The total number of housing requests until the end of last January The Public Authority for Housing Welfare announced that the total number of housing requests until the end of last January reached a population request.',\n",
       " 'The total number of housing applications reached at the end of last November. The Public Authority for Housing Shepherds announced that the total number of residential applications until the end of last November amounted to a number of residential applications. The official spokesman for the institution said',\n",
       " 'Boushahri to exclude companies implementing infrastructure in the city of Sabah Al Hamad The Minister of State for Population Affairs Minister of State for Services Dr. Jinan Boushahri announced the issuance of a decision to exclude six companies and an engineering office from the public institution’s tenders',\n",
       " 'Educators postponed exams as part of the curricula. There were differences in the educational field regarding the mechanism of compensating students for what they missed due to exceptional holidays due to weather fluctuations. While one team calls for the intensification of lessons and classes, another team sees',\n",
       " 'Residential raises the priority of privatization over the south section of Sabah Al-Hamad until the end of the year',\n",
       " 'Kuwait reaffirms its firm stance towards combating the illegal trade in small arms and light weaponsKuwait reaffirmed its firm stance towards combating the illegal trade and supply of small arms and light weapons, saying',\n",
       " 'Kuwaiti women are deprived of leadership positions in the electricity sector, despite the passage of about a decade and a half since the state’s decision for political rights for the first time in May through a law granting them their full rights to vote and to run for office, and the subsequent appointment of parents and',\n",
       " 'Kuwait The Houthis deliberately absent from the Geneva consultations KONA Almost Kuwait The unjustified absence of the Houthi group from participating in the Geneva round of consultations on Yemen was a link in their series of continuous violations of international law and legislation',\n",
       " 'The total number of residential requests until the current March',\n",
       " 'Siri has been fought since the first day of this section of the forces of darkness and reaction. The Minister of Social Affairs, Dr. Ghadeer Siri, submitted her resignation today from the government, and Siri made it clear in the resignation letter that she wanted to avoid Saddam and',\n",
       " 'Sabah Al-Khaled, a veteran diplomat, His Highness the Prime Minister of the Council of Ministers, Sheikh Sabah Al-Khaled, is distinguished by his wisdom and moderate policy, which has broad Arab and international relations, in conjunction with his success in a number of files and mediations that he was carrying out in the',\n",
       " 'The youth organization continues to implement our activities in partnership with the youth, the Director General of the General Authority for Youth Abdul Rahman Al-Mutairi, today, Sunday, the continuation of the authority to implement its activities directed to the youth through direct work with them in planning and implementation',\n",
       " 'Al-Azmi has not yet been equalized for any certificate for the American University of Thena. The Minister of Education and Minister of Higher Education, Dr. Hamed Al-Azmi, told Al-Rai that we are attending the meeting of the Parliamentary Education Committee to see all the degrees and we have a number.',\n",
       " 'Muhannad Al-Sayer, the public debt is defective. Lawyer Muhannad Talal Al-Sayer describes the timing of the presentation of the Public Debt Law as C, indicating that it is not a new law on the scene, as it was completed in preparation last February, before the repercussions of the Kore crisis appeared.',\n",
       " 'Conditions and controls for appointing a person in charge of caring for people with disabilities The Director General of the Public Authority for People with Disabilities, Dr. Shafiqa Al-Awadi, issued Resolution No. 1 for the year regarding the conditions and controls for appointing a person in charge of care.',\n",
       " 'Minister of Youth The efforts of the Kuwaiti youth in the face of the Corona pandemic stunned the world. Minister of Information and Minister of State for Youth Affairs Muhammad Al-Jabri, with the efforts of Kuwaiti youth, proved their worth in the Covid pandemic in a way that astonished the world with the extent of their great responsibility',\n",
       " 'Dr. Abdulmohsen Al-Huwailah, private education meets with private school owners']"
      ]
     },
     "execution_count": 18,
     "metadata": {},
     "output_type": "execute_result"
    }
   ],
   "source": [
    "news_cluster=[]\n",
    "for dp in cluster:\n",
    "    news_cluster.append(GoogleTranslator(source='auto', target='en').translate(data[dp][:200])) #limiting to 200 --> for easy translation\n",
    "news_cluster"
   ]
  },
  {
   "cell_type": "code",
   "execution_count": null,
   "metadata": {},
   "outputs": [],
   "source": []
  },
  {
   "cell_type": "code",
   "execution_count": 123,
   "metadata": {},
   "outputs": [
    {
     "data": {
      "text/plain": [
       "['France awards Sheikha Intisar Al-Sabah, the Legion of Honor, with the rank of Knight',\n",
       " 'Kulthum Hussein Awad wins the presidency of the Arab Union for specialized women',\n",
       " 'Kulthum Awad wins the presidency of the Arab Union for the specialized women',\n",
       " 'The progressive movement rejects a map of restructuring the public sector, which is biased against the popular classes in favor of the big capitalists',\n",
       " 'Kuwait is the world leader in terms of order and safety in schools',\n",
       " 'The university president issues a decision to amend the distance education regulation',\n",
       " 'The Lawyers Association: Excluding nationality workers from the jurisdiction of the judiciary needs urgent legislative intervention',\n",
       " 'The Martyr’s Office launches a competition to design a model symbolizing national unity and the memorialization of martyrs',\n",
       " 'Teachers: The necessity of integrated education supported by the blended education to ensure quality and continuity',\n",
       " 'The integrity of Kuwait’s efforts against corruption resulted in the establishment of a strong system to prevent and combat it',\n",
       " 'Al-Nasser for the Non-Aligned Movement: Doing what is necessary to strengthen the role of the movement and transfer it from a dreamer to a behavior. The Minister of Foreign Affairs, Minister of State for Cabinet Affairs Sheikh Dr. Hamad Al-Nasser, the necessity of doing what is necessary to strengthen the role of the Non-Aligned Movement',\n",
       " 'Kuwait Heart Association Four decades of purposeful awareness',\n",
       " 'KIMS celebrated the renewal of obtaining institutional recognition from the Canadian Royal College of Surgeons',\n",
       " 'The Ministry of the Interior has prepared a comprehensive plan to secure Ashura. Al-Rai Al-Harir News. The Ministry of Interior is putting the final touches on its plan for the month of Muharram and securing Husseiniya councils through a field deployment accompanied by a round-the-clock operations room that includes various',\n",
       " 'Kuwait confirms that the solution to the crisis in Syria must be political.',\n",
       " 'Residential care The total number of population requests until the end of last January',\n",
       " 'Residential applications met the total population requests by the end of last November',\n",
       " 'Boushahri to exclude companies implementing infrastructure in the city of Sabah Al Hamad The Minister of State for Population Affairs Minister of State for Services Dr. Jinan Boushahri announced the issuance of a decision to exclude six companies and an engineering office from the public institution’s tenders',\n",
       " 'Educators postpone exams and cancel part of the curricula. The opinion of the educational field differs about the mechanism of compensating students for what they missed due to exceptional holidays due to weather fluctuations. While one group calls for intensifying lessons and classes, another group sees',\n",
       " 'The housing division raises the priority of allocation over the South Sabah Al Hamad city division to the end',\n",
       " 'Kuwait affirms its firm position towards combating the illicit trade in small arms and light weapons.',\n",
       " 'Kuwaiti women are deprived of leadership positions in the electricity sector, despite the passage of about a decade and a half since the state’s decision for political rights for the first time in May through a law granting them their full rights to vote and to run for office, and the subsequent appointment of parents and',\n",
       " 'Kuwait The Houthis deliberately abstained from the Geneva talks.',\n",
       " 'The total number of residential requests until the current March',\n",
       " 'Siri has been fought since the first day of this section of the forces of darkness and reaction. The Minister of Social Affairs, Dr. Ghadeer Siri, submitted her resignation today from the government, and Siri made it clear in the resignation letter that she wanted to avoid Saddam and',\n",
       " 'Sabah Al-Khaled, a veteran diplomat, His Highness the Prime Minister of the Council of Ministers, Sheikh Sabah Al-Khaled, is distinguished by his wisdom and moderate policy, which has broad Arab and international relations, in conjunction with his success in a number of files and mediations that he was undertaking in the',\n",
       " 'The youth organization continues to implement our activities in partnership with the youth, the Director General of the General Authority for Youth Abdul Rahman Al-Mutairi, today, Sunday, the continuation of the authority to implement its activities directed to the youth through direct work with them in planning and implementation',\n",
       " 'Al-Azmi has not yet obtained an equivalency for any certificate from the American University of Athens. The Minister of Education and the Minister of Higher Education, Dr. Hamed Al-Azmi told Al-Rai, “We are attending the meeting of the Parliamentary Education Committee to see all the opinions, and we have',\n",
       " 'Muhannad Al-Sayer, the public debt is defective. Lawyer Muhannad Talal Al-Sayer describes the timing of the presentation of the Public Debt Law as C, indicating that it is not a new law on the scene, as it was completed in preparation last February, before the repercussions of the Kore crisis appeared.',\n",
       " 'Conditions and controls for appointing the person charged with the care of people with disabilities The Director General of the General Authority for People with Disabilities Dr. Shafiqa Al-Awadi issued Resolution No. for the year regarding the conditions and controls for appointing the person charged with care, including a first article that must be appointed to appoint the person in charge',\n",
       " 'Minister of Youth The efforts of Kuwaiti youth in the face of the Corona pandemic stunned the world. Minister of Information and Minister of State for Youth Affairs Muhammad Al-Jabri, with the efforts of Kuwaiti youth, proved their worth in the Covid pandemic, in a way that stunned the world with the extent of their great responsibility',\n",
       " 'Dr. Abdulmohsen Al-Huwailah, private education meets with private school owners']"
      ]
     },
     "execution_count": 123,
     "metadata": {},
     "output_type": "execute_result"
    }
   ],
   "source": [
    "news_cluster=[]\n",
    "for dp in cluster:\n",
    "    news_cluster.append(GoogleTranslator(source='auto', target='en').translate(data[dp][:200])) #limiting to 200 --> for easy translation\n",
    "news_cluster"
   ]
  },
  {
   "cell_type": "code",
   "execution_count": 2,
   "metadata": {},
   "outputs": [
    {
     "ename": "NameError",
     "evalue": "name 'clusters' is not defined",
     "output_type": "error",
     "traceback": [
      "\u001b[1;31m---------------------------------------------------------------------------\u001b[0m",
      "\u001b[1;31mNameError\u001b[0m                                 Traceback (most recent call last)",
      "\u001b[1;32mc:\\Users\\rbw19\\OneDrive\\Desktop\\recommendation_engine\\universal_sentence_encoder.ipynb Cell 53\u001b[0m in \u001b[0;36m<cell line: 1>\u001b[1;34m()\u001b[0m\n\u001b[1;32m----> <a href='vscode-notebook-cell:/c%3A/Users/rbw19/OneDrive/Desktop/recommendation_engine/universal_sentence_encoder.ipynb#Y104sZmlsZQ%3D%3D?line=0'>1</a>\u001b[0m test_labels, strengths\u001b[39m=\u001b[39mclusters\u001b[39m.\u001b[39mapproximate_predict(clusters,umap_embeddings[\u001b[39m51\u001b[39m]\u001b[39m.\u001b[39mreshape(\u001b[39m1\u001b[39m,\u001b[39m20\u001b[39m)) \u001b[39m#for feeding into this we need to reshape the data with 1row and 20 cols\u001b[39;00m\n\u001b[0;32m      <a href='vscode-notebook-cell:/c%3A/Users/rbw19/OneDrive/Desktop/recommendation_engine/universal_sentence_encoder.ipynb#Y104sZmlsZQ%3D%3D?line=1'>2</a>\u001b[0m test_labels,strengths\n",
      "\u001b[1;31mNameError\u001b[0m: name 'clusters' is not defined"
     ]
    }
   ],
   "source": [
    "test_labels, strengths=clusters.approximate_predict(clusters,umap_embeddings[51].reshape(1,20)) #for feeding into this we need to reshape the data with 1row and 20 cols\n",
    "test_labels,strengths # study about strenths\n",
    "#https://hdbscan.readthedocs.io/en/latest/prediction_tutorial.html"
   ]
  },
  {
   "cell_type": "markdown",
   "metadata": {},
   "source": [
    "# Evaluation metrics for clustering"
   ]
  },
  {
   "cell_type": "markdown",
   "metadata": {},
   "source": [
    "https://www.youtube.com/watch?v=psQjwfFzLrk&t=69"
   ]
  },
  {
   "cell_type": "code",
   "execution_count": null,
   "metadata": {},
   "outputs": [],
   "source": []
  },
  {
   "cell_type": "markdown",
   "metadata": {},
   "source": [
    "# Things to study  <br>\n",
    "* universal sentence encoder\n",
    "* UMAP\n",
    "* HDBSCAN"
   ]
  },
  {
   "cell_type": "code",
   "execution_count": null,
   "metadata": {},
   "outputs": [],
   "source": []
  },
  {
   "cell_type": "code",
   "execution_count": null,
   "metadata": {},
   "outputs": [],
   "source": []
  },
  {
   "cell_type": "markdown",
   "metadata": {},
   "source": [
    "# Informations\n",
    "hdbscan-0.8.28"
   ]
  },
  {
   "cell_type": "code",
   "execution_count": null,
   "metadata": {},
   "outputs": [],
   "source": []
  },
  {
   "cell_type": "code",
   "execution_count": null,
   "metadata": {},
   "outputs": [],
   "source": []
  },
  {
   "cell_type": "code",
   "execution_count": null,
   "metadata": {},
   "outputs": [],
   "source": []
  }
 ],
 "metadata": {
  "kernelspec": {
   "display_name": "Python 3.8.11 ('machine_learning')",
   "language": "python",
   "name": "python3"
  },
  "language_info": {
   "codemirror_mode": {
    "name": "ipython",
    "version": 3
   },
   "file_extension": ".py",
   "mimetype": "text/x-python",
   "name": "python",
   "nbconvert_exporter": "python",
   "pygments_lexer": "ipython3",
   "version": "3.8.11"
  },
  "orig_nbformat": 4,
  "vscode": {
   "interpreter": {
    "hash": "a9c62d8cf6e30c1639f8e9a0a261a530483935ac00f94e2882c1ade2d532fd4c"
   }
  }
 },
 "nbformat": 4,
 "nbformat_minor": 2
}
